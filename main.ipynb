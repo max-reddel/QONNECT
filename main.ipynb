{
 "cells": [
  {
   "cell_type": "markdown",
   "metadata": {
    "collapsed": true,
    "pycharm": {
     "name": "#%% md\n"
    }
   },
   "source": [
    "# Main Notebook\n",
    "\n",
    "This notebook is used to create and run a model, and to look at the preferences of some agents. It is used to accompany the specification of the model."
   ]
  },
  {
   "cell_type": "markdown",
   "source": [
    "## Imports"
   ],
   "metadata": {
    "collapsed": false,
    "pycharm": {
     "name": "#%% md\n"
    }
   }
  },
  {
   "cell_type": "code",
   "execution_count": 1,
   "outputs": [],
   "source": [
    "from model.plastic_model import *"
   ],
   "metadata": {
    "collapsed": false,
    "pycharm": {
     "name": "#%%\n"
    }
   }
  },
  {
   "cell_type": "markdown",
   "source": [
    "## Determine how many agents should be created per agent type"
   ],
   "metadata": {
    "collapsed": false,
    "pycharm": {
     "name": "#%% md\n"
    }
   }
  },
  {
   "cell_type": "code",
   "execution_count": 2,
   "outputs": [],
   "source": [
    "agent_counts = {\n",
    "    PartsManufacturer: 3,\n",
    "    MinerRefiner: 2,\n",
    "    Shredder: 2}"
   ],
   "metadata": {
    "collapsed": false,
    "pycharm": {
     "name": "#%%\n"
    }
   }
  },
  {
   "cell_type": "markdown",
   "source": [
    "## Create and run the model"
   ],
   "metadata": {
    "collapsed": false,
    "pycharm": {
     "name": "#%% md\n"
    }
   }
  },
  {
   "cell_type": "code",
   "execution_count": 3,
   "outputs": [
    {
     "name": "stdout",
     "output_type": "stream",
     "text": [
      "Model step.\n",
      "Model step.\n"
     ]
    }
   ],
   "source": [
    "model = PlasticModel(agent_counts)\n",
    "\n",
    "for i in range(2):\n",
    "    model.step()"
   ],
   "metadata": {
    "collapsed": false,
    "pycharm": {
     "name": "#%%\n"
    }
   }
  },
  {
   "cell_type": "markdown",
   "source": [
    "## A look into one agent's preferences\n",
    "\n",
    "\n",
    "Choose some `PartsManufacturer` agent."
   ],
   "metadata": {
    "collapsed": false,
    "pycharm": {
     "name": "#%% md\n"
    }
   }
  },
  {
   "cell_type": "code",
   "execution_count": 4,
   "outputs": [],
   "source": [
    "a = 0\n",
    "suppliers = 0\n",
    "for _, agent_list in model.all_agents.items():\n",
    "\n",
    "    for agent in agent_list:\n",
    "\n",
    "        if isinstance(agent, PartsManufacturer):\n",
    "            a = agent\n",
    "            break\n",
    "    break"
   ],
   "metadata": {
    "collapsed": false,
    "pycharm": {
     "name": "#%%\n"
    }
   }
  },
  {
   "cell_type": "markdown",
   "source": [
    "Show this agent's current preferences."
   ],
   "metadata": {
    "collapsed": false,
    "pycharm": {
     "name": "#%% md\n"
    }
   }
  },
  {
   "cell_type": "code",
   "execution_count": 5,
   "outputs": [
    {
     "data": {
      "text/plain": "                            <model.agents.MinerRefiner object at 0x7fa121512df0>  \\\nPlasticType.REUSE                                                         inf      \nPlasticType.VIRGIN                                                   2.100377      \nPlasticType.RECYCLATE_LOW                                                 inf      \nPlasticType.RECYCLATE_HIGH                                                inf      \n\n                            <model.agents.MinerRefiner object at 0x7fa121512c10>  \\\nPlasticType.REUSE                                                         inf      \nPlasticType.VIRGIN                                                   2.572287      \nPlasticType.RECYCLATE_LOW                                                 inf      \nPlasticType.RECYCLATE_HIGH                                                inf      \n\n                            <model.agents.Shredder object at 0x7fa121512c40>  \\\nPlasticType.REUSE                                                        inf   \nPlasticType.VIRGIN                                                       inf   \nPlasticType.RECYCLATE_LOW                                           2.585542   \nPlasticType.RECYCLATE_HIGH                                          2.447743   \n\n                            <model.agents.Shredder object at 0x7fa121512af0>  \nPlasticType.REUSE                                                        inf  \nPlasticType.VIRGIN                                                       inf  \nPlasticType.RECYCLATE_LOW                                           2.637097  \nPlasticType.RECYCLATE_HIGH                                          2.282090  ",
      "text/html": "<div>\n<style scoped>\n    .dataframe tbody tr th:only-of-type {\n        vertical-align: middle;\n    }\n\n    .dataframe tbody tr th {\n        vertical-align: top;\n    }\n\n    .dataframe thead th {\n        text-align: right;\n    }\n</style>\n<table border=\"1\" class=\"dataframe\">\n  <thead>\n    <tr style=\"text-align: right;\">\n      <th></th>\n      <th>&lt;model.agents.MinerRefiner object at 0x7fa121512df0&gt;</th>\n      <th>&lt;model.agents.MinerRefiner object at 0x7fa121512c10&gt;</th>\n      <th>&lt;model.agents.Shredder object at 0x7fa121512c40&gt;</th>\n      <th>&lt;model.agents.Shredder object at 0x7fa121512af0&gt;</th>\n    </tr>\n  </thead>\n  <tbody>\n    <tr>\n      <th>PlasticType.REUSE</th>\n      <td>inf</td>\n      <td>inf</td>\n      <td>inf</td>\n      <td>inf</td>\n    </tr>\n    <tr>\n      <th>PlasticType.VIRGIN</th>\n      <td>2.100377</td>\n      <td>2.572287</td>\n      <td>inf</td>\n      <td>inf</td>\n    </tr>\n    <tr>\n      <th>PlasticType.RECYCLATE_LOW</th>\n      <td>inf</td>\n      <td>inf</td>\n      <td>2.585542</td>\n      <td>2.637097</td>\n    </tr>\n    <tr>\n      <th>PlasticType.RECYCLATE_HIGH</th>\n      <td>inf</td>\n      <td>inf</td>\n      <td>2.447743</td>\n      <td>2.282090</td>\n    </tr>\n  </tbody>\n</table>\n</div>"
     },
     "execution_count": 5,
     "metadata": {},
     "output_type": "execute_result"
    }
   ],
   "source": [
    "a.preferences.data"
   ],
   "metadata": {
    "collapsed": false,
    "pycharm": {
     "name": "#%%\n"
    }
   }
  },
  {
   "cell_type": "markdown",
   "source": [
    "\n",
    "### General remarks\n",
    "As you can see, the rows show what kind of plastic there is. The column depict the supplier agents for this particular `PartsManufacturer`. We can see two instances for `MinerRefiner` and two instances for `Shredder`.\n",
    "\n",
    "\n",
    "### How to read the values\n",
    "Priorities will have to be read in a way that you have to look at a single row. E.g., `PlasticType.VIRGIN` shows that there are two priority values, one for each `MinerRefiner`. The lower the priority value, the more desirable is a specific supplier for this specific `PlasticType`. The cells that show `inf` main infinity and `math.inf` has been used for that.\n",
    "\n",
    "### What next?\n",
    "In the next stage, each agent's preferences should be viewed, considered, and satisfied. This stage has not been implemented yet."
   ],
   "metadata": {
    "collapsed": false,
    "pycharm": {
     "name": "#%% md\n"
    }
   }
  }
 ],
 "metadata": {
  "kernelspec": {
   "name": "pycharm-2517ad8d",
   "language": "python",
   "display_name": "PyCharm (md_final)"
  },
  "language_info": {
   "codemirror_mode": {
    "name": "ipython",
    "version": 2
   },
   "file_extension": ".py",
   "mimetype": "text/x-python",
   "name": "python",
   "nbconvert_exporter": "python",
   "pygments_lexer": "ipython2",
   "version": "2.7.6"
  }
 },
 "nbformat": 4,
 "nbformat_minor": 0
}