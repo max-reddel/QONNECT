{
 "cells": [
  {
   "cell_type": "code",
   "execution_count": 12,
   "metadata": {
    "collapsed": true
   },
   "outputs": [
    {
     "name": "stdout",
     "output_type": "stream",
     "text": [
      "Simulation starting...\n"
     ]
    }
   ],
   "source": [
    "from model.cepai_model import *\n",
    "\n",
    "if __name__ == \"__main__\":\n",
    "    model = CEPAIModel(agent_counts={\n",
    "                PartsManufacturer: 3,\n",
    "                Refiner: 3,\n",
    "                Recycler: 2,\n",
    "                CarManufacturer: 4,\n",
    "                User: 10,\n",
    "                Garage: 2,\n",
    "                Dismantler: 1\n",
    "            })\n",
    "    #model.run(steps=5)"
   ]
  },
  {
   "cell_type": "code",
   "execution_count": 33,
   "outputs": [
    {
     "name": "stdout",
     "output_type": "stream",
     "text": [
      "4\n",
      "<model.agents.User object at 0x000001BCAF075D30>\n",
      "10\n"
     ]
    }
   ],
   "source": [
    "user_count = 0\n",
    "for user in model.all_agents[User]:\n",
    "    if not user.stock[Component.CARS]:\n",
    "        print(user_count)\n",
    "        print(user)\n",
    "        user_count += 1\n",
    "    else:\n",
    "        user_count += 1\n",
    "print(user_count)"
   ],
   "metadata": {
    "collapsed": false,
    "pycharm": {
     "name": "#%%\n"
    }
   }
  },
  {
   "cell_type": "code",
   "execution_count": 71,
   "outputs": [
    {
     "name": "stdout",
     "output_type": "stream",
     "text": [
      "True\n",
      "True\n",
      "True\n",
      "True\n",
      "True\n",
      "True\n",
      "True\n",
      "True\n",
      "True\n",
      "True\n"
     ]
    }
   ],
   "source": [
    "for user in model.all_agents[User]:\n",
    "\n",
    "    if user.stock[Component.CARS]:\n",
    "        car = user.stock[Component.CARS][0]\n",
    "        print(car.state)\n",
    "    else:\n",
    "        print(user.car_repair)"
   ],
   "metadata": {
    "collapsed": false,
    "pycharm": {
     "name": "#%%\n"
    }
   }
  },
  {
   "cell_type": "code",
   "execution_count": 72,
   "outputs": [
    {
     "name": "stdout",
     "output_type": "stream",
     "text": [
      "[<model.bigger_components.Car object at 0x000001BCAF0382B0>, <model.bigger_components.Car object at 0x000001BCAF038970>, <model.bigger_components.Car object at 0x000001BCAF075C70>, <model.bigger_components.Car object at 0x000001BCAF075B20>, <model.bigger_components.Car object at 0x000001BCAF075D60>, <model.bigger_components.Car object at 0x000001BCAF038E80>, <model.bigger_components.Car object at 0x000001BCAF075A60>, <model.bigger_components.Car object at 0x000001BCAF038460>, <model.bigger_components.Car object at 0x000001BCAF093A00>, <model.bigger_components.Car object at 0x000001BCAF038CD0>, <model.bigger_components.Car object at 0x000001BCAF093A30>, <model.bigger_components.Car object at 0x000001BCAF03D070>, <model.bigger_components.Car object at 0x000001BCAF0939A0>, <model.bigger_components.Car object at 0x000001BCAF06FE20>, <model.bigger_components.Car object at 0x000001BCAF075370>, <model.bigger_components.Car object at 0x000001BCAF06FC70>, <model.bigger_components.Car object at 0x000001BCAF0751C0>, <model.bigger_components.Car object at 0x000001BCAF075520>, <model.bigger_components.Car object at 0x000001BCAF0756D0>]\n",
      "[]\n",
      "[<model.bigger_components.Car object at 0x000001BCAF038B20>, <model.bigger_components.Car object at 0x000001BCAF075A90>, <model.bigger_components.Car object at 0x000001BCAF0387C0>, <model.bigger_components.Car object at 0x000001BCAF075B80>, <model.bigger_components.Car object at 0x000001BCAF075A30>, <model.bigger_components.Car object at 0x000001BCAF03D220>, <model.bigger_components.Car object at 0x000001BCAF038610>, <model.bigger_components.Car object at 0x000001BCAF06FAC0>, <model.bigger_components.Car object at 0x000001BCAF0642E0>, <model.bigger_components.Car object at 0x000001BCAF0939D0>, <model.bigger_components.Car object at 0x000001BCAF06FFD0>, <model.bigger_components.Car object at 0x000001BCAF06F910>]\n",
      "[]\n"
     ]
    }
   ],
   "source": [
    "for garage in model.all_agents[Garage]:\n",
    "\n",
    "    print(garage.stock[Component.CARS])\n",
    "    print(garage.stock[Component.PARTS])"
   ],
   "metadata": {
    "collapsed": false,
    "pycharm": {
     "name": "#%%\n"
    }
   }
  },
  {
   "cell_type": "code",
   "execution_count": 70,
   "outputs": [],
   "source": [
    "model.step()"
   ],
   "metadata": {
    "collapsed": false,
    "pycharm": {
     "name": "#%%\n"
    }
   }
  },
  {
   "cell_type": "code",
   "execution_count": 73,
   "outputs": [
    {
     "name": "stdout",
     "output_type": "stream",
     "text": [
      "CarState.FUNCTIONING\n",
      "<model.bigger_components.Car object at 0x000001BCAF0382B0>\n",
      "CarState.FUNCTIONING\n",
      "<model.bigger_components.Car object at 0x000001BCAF038970>\n",
      "CarState.END_OF_LIFE\n",
      "<model.bigger_components.Car object at 0x000001BCAF075C70>\n",
      "CarState.END_OF_LIFE\n",
      "<model.bigger_components.Car object at 0x000001BCAF075B20>\n",
      "CarState.END_OF_LIFE\n",
      "<model.bigger_components.Car object at 0x000001BCAF075D60>\n",
      "CarState.FUNCTIONING\n",
      "<model.bigger_components.Car object at 0x000001BCAF038E80>\n",
      "CarState.END_OF_LIFE\n",
      "<model.bigger_components.Car object at 0x000001BCAF075A60>\n",
      "CarState.END_OF_LIFE\n",
      "<model.bigger_components.Car object at 0x000001BCAF038460>\n",
      "CarState.BROKEN\n",
      "<model.bigger_components.Car object at 0x000001BCAF093A00>\n",
      "CarState.END_OF_LIFE\n",
      "<model.bigger_components.Car object at 0x000001BCAF038CD0>\n",
      "CarState.BROKEN\n",
      "<model.bigger_components.Car object at 0x000001BCAF093A30>\n",
      "CarState.END_OF_LIFE\n",
      "<model.bigger_components.Car object at 0x000001BCAF03D070>\n",
      "CarState.END_OF_LIFE\n",
      "<model.bigger_components.Car object at 0x000001BCAF0939A0>\n",
      "CarState.BROKEN\n",
      "<model.bigger_components.Car object at 0x000001BCAF06FE20>\n",
      "CarState.BROKEN\n",
      "<model.bigger_components.Car object at 0x000001BCAF075370>\n",
      "CarState.END_OF_LIFE\n",
      "<model.bigger_components.Car object at 0x000001BCAF06FC70>\n",
      "CarState.BROKEN\n",
      "<model.bigger_components.Car object at 0x000001BCAF0751C0>\n",
      "CarState.BROKEN\n",
      "<model.bigger_components.Car object at 0x000001BCAF075520>\n",
      "CarState.BROKEN\n",
      "<model.bigger_components.Car object at 0x000001BCAF0756D0>\n",
      "CarState.FUNCTIONING\n",
      "<model.bigger_components.Car object at 0x000001BCAF038B20>\n",
      "CarState.END_OF_LIFE\n",
      "<model.bigger_components.Car object at 0x000001BCAF075A90>\n",
      "CarState.FUNCTIONING\n",
      "<model.bigger_components.Car object at 0x000001BCAF0387C0>\n",
      "CarState.END_OF_LIFE\n",
      "<model.bigger_components.Car object at 0x000001BCAF075B80>\n",
      "CarState.END_OF_LIFE\n",
      "<model.bigger_components.Car object at 0x000001BCAF075A30>\n",
      "CarState.FUNCTIONING\n",
      "<model.bigger_components.Car object at 0x000001BCAF03D220>\n",
      "CarState.END_OF_LIFE\n",
      "<model.bigger_components.Car object at 0x000001BCAF038610>\n",
      "CarState.FUNCTIONING\n",
      "<model.bigger_components.Car object at 0x000001BCAF06FAC0>\n",
      "CarState.END_OF_LIFE\n",
      "<model.bigger_components.Car object at 0x000001BCAF0642E0>\n",
      "CarState.END_OF_LIFE\n",
      "<model.bigger_components.Car object at 0x000001BCAF0939D0>\n",
      "CarState.BROKEN\n",
      "<model.bigger_components.Car object at 0x000001BCAF06FFD0>\n",
      "CarState.END_OF_LIFE\n",
      "<model.bigger_components.Car object at 0x000001BCAF06F910>\n"
     ]
    }
   ],
   "source": [
    "for garage in model.all_agents[Garage]:\n",
    "    for car in garage.stock[Component.CARS]:\n",
    "        print(car.state)\n",
    "        print(car)"
   ],
   "metadata": {
    "collapsed": false,
    "pycharm": {
     "name": "#%%\n"
    }
   }
  },
  {
   "cell_type": "code",
   "execution_count": 32,
   "outputs": [
    {
     "name": "stdout",
     "output_type": "stream",
     "text": [
      "{}\n",
      "{}\n"
     ]
    }
   ],
   "source": [
    "for garage in model.all_agents[Garage]:\n",
    "    print(garage.customer_base)"
   ],
   "metadata": {
    "collapsed": false,
    "pycharm": {
     "name": "#%%\n"
    }
   }
  },
  {
   "cell_type": "code",
   "execution_count": null,
   "outputs": [],
   "source": [],
   "metadata": {
    "collapsed": false,
    "pycharm": {
     "name": "#%%\n"
    }
   }
  }
 ],
 "metadata": {
  "kernelspec": {
   "display_name": "Python 3",
   "language": "python",
   "name": "python3"
  },
  "language_info": {
   "codemirror_mode": {
    "name": "ipython",
    "version": 2
   },
   "file_extension": ".py",
   "mimetype": "text/x-python",
   "name": "python",
   "nbconvert_exporter": "python",
   "pygments_lexer": "ipython2",
   "version": "2.7.6"
  }
 },
 "nbformat": 4,
 "nbformat_minor": 0
}