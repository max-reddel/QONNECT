{
 "cells": [
  {
   "cell_type": "code",
   "execution_count": 1,
   "metadata": {
    "collapsed": true
   },
   "outputs": [
    {
     "name": "stdout",
     "output_type": "stream",
     "text": [
      "Simulation starting...\n"
     ]
    }
   ],
   "source": [
    "from model.cepai_model import *\n",
    "\n",
    "if __name__ == \"__main__\":\n",
    "    model = CEPAIModel(agent_counts={\n",
    "                PartsManufacturer: 3,\n",
    "                Refiner: 3,\n",
    "                Recycler: 2,\n",
    "                CarManufacturer: 4,\n",
    "                User: 10,\n",
    "                Garage: 2,\n",
    "                Dismantler: 1\n",
    "            })\n",
    "    #model.run(steps=5)"
   ]
  },
  {
   "cell_type": "code",
   "execution_count": 2,
   "outputs": [
    {
     "name": "stdout",
     "output_type": "stream",
     "text": [
      "0\n",
      "<model.agents.User object at 0x000001AD48A1BAC0>\n",
      "10\n"
     ]
    }
   ],
   "source": [
    "user_count = 0\n",
    "for user in model.all_agents[User]:\n",
    "    if not user.stock[Component.CARS]:\n",
    "        print(user_count)\n",
    "        print(user)\n",
    "        user_count += 1\n",
    "    else:\n",
    "        user_count += 1\n",
    "print(user_count)"
   ],
   "metadata": {
    "collapsed": false,
    "pycharm": {
     "name": "#%%\n"
    }
   }
  },
  {
   "cell_type": "code",
   "execution_count": 6,
   "outputs": [
    {
     "name": "stdout",
     "output_type": "stream",
     "text": [
      "CarState.FUNCTIONING\n",
      "[<CarState.BROKEN: 0>]\n",
      "[<CarState.BROKEN: 0>]\n",
      "[<CarState.FUNCTIONING: 1>]\n",
      "[<CarState.FUNCTIONING: 1>]\n",
      "[<CarState.FUNCTIONING: 1>]\n",
      "[<CarState.FUNCTIONING: 1>]\n",
      "[<CarState.FUNCTIONING: 1>]\n",
      "[<CarState.FUNCTIONING: 1>]\n",
      "[<CarState.FUNCTIONING: 1>]\n"
     ]
    }
   ],
   "source": [
    "for user in model.all_agents[User]:\n",
    "\n",
    "    if user.stock[Component.CARS]:\n",
    "        car = user.stock[Component.CARS][0]\n",
    "        print(car.state)\n",
    "    else:\n",
    "        print(user.car_repair)"
   ],
   "metadata": {
    "collapsed": false,
    "pycharm": {
     "name": "#%%\n"
    }
   }
  },
  {
   "cell_type": "code",
   "execution_count": 4,
   "outputs": [
    {
     "name": "stdout",
     "output_type": "stream",
     "text": [
      "[]\n",
      "[<model.bigger_components.Part object at 0x000001AD48A393D0>, <model.bigger_components.Part object at 0x000001AD48A39310>, <model.bigger_components.Part object at 0x000001AD48A39430>, <model.bigger_components.Part object at 0x000001AD48A39460>, <model.bigger_components.Part object at 0x000001AD48A39760>]\n",
      "[]\n",
      "[<model.bigger_components.Part object at 0x000001AD48A397F0>, <model.bigger_components.Part object at 0x000001AD48A39850>, <model.bigger_components.Part object at 0x000001AD48A398B0>, <model.bigger_components.Part object at 0x000001AD48A39910>, <model.bigger_components.Part object at 0x000001AD48A39970>]\n"
     ]
    }
   ],
   "source": [
    "for garage in model.all_agents[Garage]:\n",
    "\n",
    "    print(garage.stock[Component.CARS])\n",
    "    print(garage.stock[Component.PARTS])"
   ],
   "metadata": {
    "collapsed": false,
    "pycharm": {
     "name": "#%%\n"
    }
   }
  },
  {
   "cell_type": "code",
   "execution_count": 5,
   "outputs": [],
   "source": [
    "model.step()"
   ],
   "metadata": {
    "collapsed": false,
    "pycharm": {
     "name": "#%%\n"
    }
   }
  },
  {
   "cell_type": "code",
   "execution_count": 6,
   "outputs": [],
   "source": [
    "for garage in model.all_agents[Garage]:\n",
    "    for car in garage.stock[Component.CARS]:\n",
    "        print(car.state)\n",
    "        print(car)"
   ],
   "metadata": {
    "collapsed": false,
    "pycharm": {
     "name": "#%%\n"
    }
   }
  },
  {
   "cell_type": "code",
   "execution_count": 22,
   "outputs": [
    {
     "name": "stdout",
     "output_type": "stream",
     "text": [
      "{}\n",
      "{}\n"
     ]
    }
   ],
   "source": [
    "for garage in model.all_agents[Garage]:\n",
    "    print(garage.customer_base)"
   ],
   "metadata": {
    "collapsed": false,
    "pycharm": {
     "name": "#%%\n"
    }
   }
  },
  {
   "cell_type": "code",
   "execution_count": null,
   "outputs": [],
   "source": [],
   "metadata": {
    "collapsed": false,
    "pycharm": {
     "name": "#%%\n"
    }
   }
  }
 ],
 "metadata": {
  "kernelspec": {
   "display_name": "Python 3",
   "language": "python",
   "name": "python3"
  },
  "language_info": {
   "codemirror_mode": {
    "name": "ipython",
    "version": 2
   },
   "file_extension": ".py",
   "mimetype": "text/x-python",
   "name": "python",
   "nbconvert_exporter": "python",
   "pygments_lexer": "ipython2",
   "version": "2.7.6"
  }
 },
 "nbformat": 4,
 "nbformat_minor": 0
}