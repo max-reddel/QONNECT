{
 "cells": [
  {
   "cell_type": "code",
   "execution_count": 3,
   "metadata": {
    "collapsed": true
   },
   "outputs": [
    {
     "name": "stdout",
     "output_type": "stream",
     "text": [
      "Simulation starting...\n"
     ]
    }
   ],
   "source": [
    "from model.cepai_model import *\n",
    "\n",
    "if __name__ == \"__main__\":\n",
    "    model = CEPAIModel(agent_counts={\n",
    "                PartsManufacturer: 3,\n",
    "                Refiner: 3,\n",
    "                Recycler: 2,\n",
    "                CarManufacturer: 4,\n",
    "                User: 10,\n",
    "                Garage: 2,\n",
    "                Dismantler: 1\n",
    "            })\n",
    "    #model.run(steps=5)"
   ]
  },
  {
   "cell_type": "code",
   "execution_count": 4,
   "outputs": [
    {
     "name": "stdout",
     "output_type": "stream",
     "text": [
      "1\n",
      "<model.agents.User object at 0x00000207F60C1610>\n",
      "4\n",
      "<model.agents.User object at 0x00000207F60C1910>\n",
      "8\n"
     ]
    }
   ],
   "source": [
    "car_count = 0\n",
    "for user in model.all_agents[User]:\n",
    "    if not user.stock[Component.CARS]:\n",
    "        print(car_count)\n",
    "        print(user)\n",
    "    else:\n",
    "        car_count += 1\n",
    "print(car_count)"
   ],
   "metadata": {
    "collapsed": false,
    "pycharm": {
     "name": "#%%\n"
    }
   }
  },
  {
   "cell_type": "code",
   "execution_count": 5,
   "outputs": [
    {
     "ename": "AttributeError",
     "evalue": "'list' object has no attribute 'ELV'",
     "output_type": "error",
     "traceback": [
      "\u001B[1;31m---------------------------------------------------------------------------\u001B[0m",
      "\u001B[1;31mAttributeError\u001B[0m                            Traceback (most recent call last)",
      "\u001B[1;32m<ipython-input-5-1d478a5cdcb9>\u001B[0m in \u001B[0;36m<module>\u001B[1;34m\u001B[0m\n\u001B[1;32m----> 1\u001B[1;33m \u001B[0mmodel\u001B[0m\u001B[1;33m.\u001B[0m\u001B[0mstep\u001B[0m\u001B[1;33m(\u001B[0m\u001B[1;33m)\u001B[0m\u001B[1;33m\u001B[0m\u001B[1;33m\u001B[0m\u001B[0m\n\u001B[0m",
      "\u001B[1;32m~\\PycharmProjects\\QONNECT\\model\\cepai_model.py\u001B[0m in \u001B[0;36mstep\u001B[1;34m(self)\u001B[0m\n\u001B[0;32m    111\u001B[0m         \u001B[0mExecutes\u001B[0m \u001B[0ma\u001B[0m \u001B[0mmodel\u001B[0m \u001B[0mstep\u001B[0m\u001B[1;33m.\u001B[0m\u001B[1;33m\u001B[0m\u001B[1;33m\u001B[0m\u001B[0m\n\u001B[0;32m    112\u001B[0m         \"\"\"\n\u001B[1;32m--> 113\u001B[1;33m         \u001B[0mself\u001B[0m\u001B[1;33m.\u001B[0m\u001B[0mschedule\u001B[0m\u001B[1;33m.\u001B[0m\u001B[0mstep\u001B[0m\u001B[1;33m(\u001B[0m\u001B[1;33m)\u001B[0m\u001B[1;33m\u001B[0m\u001B[1;33m\u001B[0m\u001B[0m\n\u001B[0m",
      "\u001B[1;32m~\\anaconda3\\lib\\site-packages\\mesa\\time.py\u001B[0m in \u001B[0;36mstep\u001B[1;34m(self)\u001B[0m\n\u001B[0;32m    195\u001B[0m         \u001B[1;32mfor\u001B[0m \u001B[0mstage\u001B[0m \u001B[1;32min\u001B[0m \u001B[0mself\u001B[0m\u001B[1;33m.\u001B[0m\u001B[0mstage_list\u001B[0m\u001B[1;33m:\u001B[0m\u001B[1;33m\u001B[0m\u001B[1;33m\u001B[0m\u001B[0m\n\u001B[0;32m    196\u001B[0m             \u001B[1;32mfor\u001B[0m \u001B[0magent_key\u001B[0m \u001B[1;32min\u001B[0m \u001B[0magent_keys\u001B[0m\u001B[1;33m:\u001B[0m\u001B[1;33m\u001B[0m\u001B[1;33m\u001B[0m\u001B[0m\n\u001B[1;32m--> 197\u001B[1;33m                 \u001B[0mgetattr\u001B[0m\u001B[1;33m(\u001B[0m\u001B[0mself\u001B[0m\u001B[1;33m.\u001B[0m\u001B[0m_agents\u001B[0m\u001B[1;33m[\u001B[0m\u001B[0magent_key\u001B[0m\u001B[1;33m]\u001B[0m\u001B[1;33m,\u001B[0m \u001B[0mstage\u001B[0m\u001B[1;33m)\u001B[0m\u001B[1;33m(\u001B[0m\u001B[1;33m)\u001B[0m  \u001B[1;31m# Run stage\u001B[0m\u001B[1;33m\u001B[0m\u001B[1;33m\u001B[0m\u001B[0m\n\u001B[0m\u001B[0;32m    198\u001B[0m             \u001B[1;32mif\u001B[0m \u001B[0mself\u001B[0m\u001B[1;33m.\u001B[0m\u001B[0mshuffle_between_stages\u001B[0m\u001B[1;33m:\u001B[0m\u001B[1;33m\u001B[0m\u001B[1;33m\u001B[0m\u001B[0m\n\u001B[0;32m    199\u001B[0m                 \u001B[0mself\u001B[0m\u001B[1;33m.\u001B[0m\u001B[0mmodel\u001B[0m\u001B[1;33m.\u001B[0m\u001B[0mrandom\u001B[0m\u001B[1;33m.\u001B[0m\u001B[0mshuffle\u001B[0m\u001B[1;33m(\u001B[0m\u001B[0magent_keys\u001B[0m\u001B[1;33m)\u001B[0m\u001B[1;33m\u001B[0m\u001B[1;33m\u001B[0m\u001B[0m\n",
      "\u001B[1;32m~\\PycharmProjects\\QONNECT\\model\\agents.py\u001B[0m in \u001B[0;36mget_all_components\u001B[1;34m(self)\u001B[0m\n\u001B[0;32m    432\u001B[0m             \u001B[1;31m#car = self.stock[Component.CARS][:1]\u001B[0m\u001B[1;33m\u001B[0m\u001B[1;33m\u001B[0m\u001B[1;33m\u001B[0m\u001B[0m\n\u001B[0;32m    433\u001B[0m             \u001B[1;32mfor\u001B[0m \u001B[0mcar\u001B[0m \u001B[1;32min\u001B[0m \u001B[0mself\u001B[0m\u001B[1;33m.\u001B[0m\u001B[0mstock\u001B[0m\u001B[1;33m[\u001B[0m\u001B[0mComponent\u001B[0m\u001B[1;33m.\u001B[0m\u001B[0mCARS\u001B[0m\u001B[1;33m]\u001B[0m\u001B[1;33m:\u001B[0m\u001B[1;33m\u001B[0m\u001B[1;33m\u001B[0m\u001B[0m\n\u001B[1;32m--> 434\u001B[1;33m                 \u001B[0mcar\u001B[0m\u001B[1;33m.\u001B[0m\u001B[0mELV\u001B[0m \u001B[1;33m=\u001B[0m \u001B[0mcar\u001B[0m\u001B[1;33m.\u001B[0m\u001B[0mELV\u001B[0m \u001B[1;33m*\u001B[0m \u001B[0mself\u001B[0m\u001B[1;33m.\u001B[0m\u001B[0muse_intensity\u001B[0m\u001B[1;33m\u001B[0m\u001B[1;33m\u001B[0m\u001B[0m\n\u001B[0m\u001B[0;32m    435\u001B[0m \u001B[1;33m\u001B[0m\u001B[0m\n\u001B[0;32m    436\u001B[0m     \u001B[1;32mdef\u001B[0m \u001B[0mbring_car_to_garage\u001B[0m\u001B[1;33m(\u001B[0m\u001B[0mself\u001B[0m\u001B[1;33m,\u001B[0m \u001B[0mcar\u001B[0m\u001B[1;33m)\u001B[0m\u001B[1;33m:\u001B[0m\u001B[1;33m\u001B[0m\u001B[1;33m\u001B[0m\u001B[0m\n",
      "\u001B[1;31mAttributeError\u001B[0m: 'list' object has no attribute 'ELV'"
     ]
    }
   ],
   "source": [
    "model.step()"
   ],
   "metadata": {
    "collapsed": false,
    "pycharm": {
     "name": "#%%\n"
    }
   }
  },
  {
   "cell_type": "code",
   "execution_count": 6,
   "outputs": [
    {
     "name": "stdout",
     "output_type": "stream",
     "text": [
      "<model.bigger_components.Car object at 0x00000207F60B0100>\n",
      "<class 'model.bigger_components.Car'>\n",
      "[<model.bigger_components.Car object at 0x00000207F61820D0>]\n",
      "<class 'list'>\n",
      "<model.bigger_components.Car object at 0x00000207F60C19D0>\n",
      "<class 'model.bigger_components.Car'>\n",
      "<model.bigger_components.Car object at 0x00000207F60C1A30>\n",
      "<class 'model.bigger_components.Car'>\n",
      "<model.bigger_components.Car object at 0x00000207F60C1AF0>\n",
      "<class 'model.bigger_components.Car'>\n"
     ]
    },
    {
     "ename": "IndexError",
     "evalue": "list index out of range",
     "output_type": "error",
     "traceback": [
      "\u001B[1;31m---------------------------------------------------------------------------\u001B[0m",
      "\u001B[1;31mIndexError\u001B[0m                                Traceback (most recent call last)",
      "\u001B[1;32m<ipython-input-6-f88042a8bdaf>\u001B[0m in \u001B[0;36m<module>\u001B[1;34m\u001B[0m\n\u001B[0;32m      2\u001B[0m \u001B[1;32mfor\u001B[0m \u001B[0muser\u001B[0m \u001B[1;32min\u001B[0m \u001B[0mmodel\u001B[0m\u001B[1;33m.\u001B[0m\u001B[0mall_agents\u001B[0m\u001B[1;33m[\u001B[0m\u001B[0mUser\u001B[0m\u001B[1;33m]\u001B[0m\u001B[1;33m:\u001B[0m\u001B[1;33m\u001B[0m\u001B[1;33m\u001B[0m\u001B[0m\n\u001B[0;32m      3\u001B[0m     \u001B[1;31m#print(user.stock[Component.CARS])\u001B[0m\u001B[1;33m\u001B[0m\u001B[1;33m\u001B[0m\u001B[1;33m\u001B[0m\u001B[0m\n\u001B[1;32m----> 4\u001B[1;33m     \u001B[0mprint\u001B[0m\u001B[1;33m(\u001B[0m\u001B[0muser\u001B[0m\u001B[1;33m.\u001B[0m\u001B[0mstock\u001B[0m\u001B[1;33m[\u001B[0m\u001B[0mComponent\u001B[0m\u001B[1;33m.\u001B[0m\u001B[0mCARS\u001B[0m\u001B[1;33m]\u001B[0m\u001B[1;33m[\u001B[0m\u001B[1;36m0\u001B[0m\u001B[1;33m]\u001B[0m\u001B[1;33m)\u001B[0m\u001B[1;33m\u001B[0m\u001B[1;33m\u001B[0m\u001B[0m\n\u001B[0m\u001B[0;32m      5\u001B[0m     \u001B[0mprint\u001B[0m\u001B[1;33m(\u001B[0m\u001B[0mtype\u001B[0m\u001B[1;33m(\u001B[0m\u001B[0muser\u001B[0m\u001B[1;33m.\u001B[0m\u001B[0mstock\u001B[0m\u001B[1;33m[\u001B[0m\u001B[0mComponent\u001B[0m\u001B[1;33m.\u001B[0m\u001B[0mCARS\u001B[0m\u001B[1;33m]\u001B[0m\u001B[1;33m[\u001B[0m\u001B[1;36m0\u001B[0m\u001B[1;33m]\u001B[0m\u001B[1;33m)\u001B[0m\u001B[1;33m)\u001B[0m\u001B[1;33m\u001B[0m\u001B[1;33m\u001B[0m\u001B[0m\n\u001B[0;32m      6\u001B[0m     \u001B[1;32mif\u001B[0m \u001B[0muser\u001B[0m\u001B[1;33m.\u001B[0m\u001B[0mstock\u001B[0m\u001B[1;33m[\u001B[0m\u001B[0mComponent\u001B[0m\u001B[1;33m.\u001B[0m\u001B[0mCARS\u001B[0m\u001B[1;33m]\u001B[0m\u001B[1;33m:\u001B[0m\u001B[1;33m\u001B[0m\u001B[1;33m\u001B[0m\u001B[0m\n",
      "\u001B[1;31mIndexError\u001B[0m: list index out of range"
     ]
    }
   ],
   "source": [
    "car_count = 0\n",
    "for user in model.all_agents[User]:\n",
    "    #print(user.stock[Component.CARS])\n",
    "    print(user.stock[Component.CARS][0])\n",
    "    print(type(user.stock[Component.CARS][0]))\n",
    "    if user.stock[Component.CARS]:\n",
    "        car_count += 1\n",
    "        car = user.stock[Component.CARS][0]\n",
    "        #print(car.ELV)\n",
    "        #print(user.stock[Component.CARS][0])\n",
    "        #print(user.stock[Component.CARS])\n",
    "#print(car_count)"
   ],
   "metadata": {
    "collapsed": false,
    "pycharm": {
     "name": "#%%\n"
    }
   }
  },
  {
   "cell_type": "code",
   "execution_count": 172,
   "outputs": [],
   "source": [
    "problematic_user = model.all_agents[User][1]"
   ],
   "metadata": {
    "collapsed": false,
    "pycharm": {
     "name": "#%%\n"
    }
   }
  },
  {
   "cell_type": "code",
   "execution_count": null,
   "outputs": [],
   "source": [
    "type(problematic_user.stock[Component.CARS][0][0])"
   ],
   "metadata": {
    "collapsed": false,
    "pycharm": {
     "name": "#%%\n"
    }
   }
  },
  {
   "cell_type": "code",
   "execution_count": 178,
   "outputs": [],
   "source": [
    "first_car_manu = model.all_agents[CarManufacturer][0]"
   ],
   "metadata": {
    "collapsed": false,
    "pycharm": {
     "name": "#%%\n"
    }
   }
  },
  {
   "cell_type": "code",
   "execution_count": 180,
   "outputs": [
    {
     "data": {
      "text/plain": "<model.bigger_components.Car at 0x16aefbb7100>"
     },
     "execution_count": 180,
     "metadata": {},
     "output_type": "execute_result"
    }
   ],
   "source": [
    "first_car_manu.stock[Component.CARS][0]"
   ],
   "metadata": {
    "collapsed": false,
    "pycharm": {
     "name": "#%%\n"
    }
   }
  }
 ],
 "metadata": {
  "kernelspec": {
   "display_name": "Python 3",
   "language": "python",
   "name": "python3"
  },
  "language_info": {
   "codemirror_mode": {
    "name": "ipython",
    "version": 2
   },
   "file_extension": ".py",
   "mimetype": "text/x-python",
   "name": "python",
   "nbconvert_exporter": "python",
   "pygments_lexer": "ipython2",
   "version": "2.7.6"
  }
 },
 "nbformat": 4,
 "nbformat_minor": 0
}