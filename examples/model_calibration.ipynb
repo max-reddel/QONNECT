{
 "cells": [
  {
   "cell_type": "markdown",
   "metadata": {
    "collapsed": true,
    "pycharm": {
     "name": "#%% md\n"
    }
   },
   "source": [
    "# Model calibration\n",
    "This notebook contains a calibration of the model for the current number of agents. Usually ABMs are not linearly scalable and therefore this procedure should be followed for model calibration, to avoid unnecessary long start-up time of the model and thus a wastage of computing power. Because the RIVM stakeholders mentioned during one of the final meetings that they were especially interested in the process of model-building, this notebook is an annex to assist for when the model is built. Note that in case this model will be extended, this notebook will require to be extended, since it only includes current variables. However, most certainly the process stays the same.\n",
    "\n",
    "Calibration outcomes of the model need to be implemented directly in the agents manually. Due to ABMs being stochastic, initial values will not be perfect but provide a good starting point. First we will be importing the model in the notebook and set it up in such a way that all policies and scenarios are turned off to see whether we can get the model in some sort of equilibrium."
   ]
  },
  {
   "cell_type": "code",
   "execution_count": 1,
   "outputs": [],
   "source": [
    "from model.cepai_model import *\n",
    "\n",
    "levers = {\n",
    "    \"L1\": 0.0,  # Minimal requirement for reused parts\n",
    "    \"L2\": 0.0,  # Minimal requirement for high-quality plastic\n",
    "    \"L3\": 0.0,  # Use better solvable cohesives\n",
    "    \"L4\": 1.0,  # Include externality for virgin plastic\n",
    "    \"L5\": 0.05   # Minimal requirement for recyclate, calibrated for 5% according to Volvo.\n",
    "        }\n",
    "\n",
    "uncertainties = {\n",
    "    \"X1\": 0.0,  # Annual increase factor of oil price\n",
    "    \"X2\": 0.0,  # Annual probability for global oil shock\n",
    "    \"X3\": 0.0   # Annual increase of recycling efficiency\n",
    "        }"
   ],
   "metadata": {
    "collapsed": false,
    "pycharm": {
     "name": "#%%\n"
    }
   }
  },
  {
   "cell_type": "code",
   "execution_count": 2,
   "outputs": [
    {
     "name": "stdout",
     "output_type": "stream",
     "text": [
      "Simulation starting...\n"
     ]
    }
   ],
   "source": [
    "model = CEPAIModel(levers=levers, uncertainties=uncertainties)"
   ],
   "metadata": {
    "collapsed": false,
    "pycharm": {
     "name": "#%%\n"
    }
   }
  },
  {
   "cell_type": "code",
   "execution_count": 3,
   "outputs": [
    {
     "name": "stdout",
     "output_type": "stream",
     "text": [
      "Step: 0\n",
      "Step: 1\n",
      "Step: 2\n",
      "Step: 3\n",
      "Step: 4\n",
      "Step: 5\n",
      "Step: 6\n",
      "Step: 7\n",
      "Step: 8\n",
      "Step: 9\n",
      "Step: 10\n",
      "Step: 11\n",
      "Step: 12\n",
      "Step: 13\n",
      "Step: 14\n",
      "Step: 15\n",
      "Step: 16\n",
      "Step: 17\n",
      "Step: 18\n",
      "Step: 19\n",
      "Step: 20\n",
      "Step: 21\n",
      "Step: 22\n",
      "Step: 23\n",
      "Step: 24\n",
      "Step: 25\n",
      "Step: 26\n",
      "Step: 27\n",
      "Step: 28\n",
      "Step: 29\n",
      "Step: 30\n",
      "Step: 31\n",
      "Step: 32\n",
      "Step: 33\n",
      "Step: 34\n",
      "Step: 35\n",
      "Step: 36\n",
      "Step: 37\n",
      "Step: 38\n",
      "Step: 39\n",
      "Step: 40\n",
      "Step: 41\n",
      "Step: 42\n",
      "Step: 43\n",
      "Step: 44\n",
      "Step: 45\n",
      "Step: 46\n",
      "Step: 47\n",
      "Step: 48\n",
      "Step: 49\n",
      "Step: 50\n",
      "Step: 51\n",
      "Step: 52\n",
      "Step: 53\n",
      "Step: 54\n",
      "Step: 55\n",
      "Step: 56\n",
      "Step: 57\n",
      "Step: 58\n",
      "Step: 59\n",
      "Step: 60\n",
      "Step: 61\n",
      "Step: 62\n",
      "Step: 63\n",
      "Step: 64\n",
      "Step: 65\n",
      "Step: 66\n",
      "Step: 67\n",
      "Step: 68\n",
      "Step: 69\n",
      "Step: 70\n",
      "Step: 71\n",
      "Step: 72\n",
      "Step: 73\n",
      "Step: 74\n",
      "Step: 75\n",
      "Step: 76\n",
      "Step: 77\n",
      "Step: 78\n",
      "Step: 79\n",
      "Step: 80\n",
      "Step: 81\n",
      "Step: 82\n",
      "Step: 83\n",
      "Step: 84\n",
      "Step: 85\n",
      "Step: 86\n",
      "Step: 87\n",
      "Step: 88\n",
      "Step: 89\n",
      "Step: 90\n",
      "Step: 91\n",
      "Step: 92\n",
      "Step: 93\n",
      "Step: 94\n",
      "Step: 95\n",
      "Step: 96\n",
      "Step: 97\n",
      "Step: 98\n",
      "Step: 99\n",
      "Step: 100\n",
      "Step: 101\n",
      "Step: 102\n",
      "Step: 103\n",
      "Step: 104\n",
      "Step: 105\n",
      "Step: 106\n",
      "Step: 107\n",
      "Step: 108\n",
      "Step: 109\n",
      "Step: 110\n",
      "Step: 111\n",
      "Step: 112\n",
      "Step: 113\n",
      "Step: 114\n",
      "Step: 115\n",
      "Step: 116\n",
      "Step: 117\n",
      "Step: 118\n",
      "Step: 119\n",
      "Step: 120\n",
      "Step: 121\n",
      "Step: 122\n",
      "Step: 123\n",
      "Step: 124\n",
      "Step: 125\n",
      "Step: 126\n",
      "Step: 127\n",
      "Step: 128\n",
      "Step: 129\n",
      "Step: 130\n",
      "Step: 131\n",
      "Step: 132\n",
      "Step: 133\n",
      "Step: 134\n",
      "Step: 135\n",
      "Step: 136\n",
      "Step: 137\n",
      "Step: 138\n",
      "Step: 139\n",
      "Step: 140\n",
      "Step: 141\n",
      "Step: 142\n",
      "Step: 143\n",
      "Step: 144\n",
      "Step: 145\n",
      "Step: 146\n",
      "Step: 147\n",
      "Step: 148\n",
      "Step: 149\n",
      "Run time: 81.58 seconds\n",
      "Simulation completed!\n"
     ]
    }
   ],
   "source": [
    "model_stabilisation_run = model.run(steps=150, time_tracking=True)"
   ],
   "metadata": {
    "collapsed": false,
    "pycharm": {
     "name": "#%%\n"
    }
   }
  },
  {
   "cell_type": "markdown",
   "source": [
    "And next we will run steps for gathering mean data to provide a good starting point for the experimental model runs. There are multiple things we need initial values for: stocks and demands. For garages we will not initially set up stocks with cars, as these belong to users and this will unnecessarily complicate the process."
   ],
   "metadata": {
    "collapsed": false,
    "pycharm": {
     "name": "#%% md\n"
    }
   }
  },
  {
   "cell_type": "code",
   "execution_count": 4,
   "outputs": [],
   "source": [
    "def get_stocks(agent):\n",
    "    agent_stocks = {}\n",
    "\n",
    "    for component, stocks in agent.stock.items():\n",
    "        if isinstance(stocks, (float or int)):\n",
    "            agent_stocks[component] = stocks\n",
    "        elif isinstance(stocks, list):\n",
    "            agent_stocks[component] = len(stocks)\n",
    "\n",
    "    return agent_stocks"
   ],
   "metadata": {
    "collapsed": false,
    "pycharm": {
     "name": "#%%\n"
    }
   }
  },
  {
   "cell_type": "code",
   "execution_count": 5,
   "outputs": [],
   "source": [
    "import collections\n",
    "import pandas as pd\n",
    "\n",
    "calibration_steps = 50\n",
    "\n",
    "data = []\n",
    "\n",
    "for _ in range(calibration_steps):\n",
    "    \"\"\"\n",
    "    Collect every step of the model the values for stocks and demands of all agent classes except users and refiners and save them in a Pandas dataframe.\n",
    "    \"\"\"\n",
    "    # Garages, check both demand and stock\n",
    "    i = 0\n",
    "\n",
    "    for garage in model.all_agents[Garage]:\n",
    "        if i == 0:\n",
    "            garage_stocks  = get_stocks(garage)\n",
    "            garage_demands = garage.demand\n",
    "            i += 1\n",
    "        else:\n",
    "            garage_stock_to_add = get_stocks(garage)\n",
    "            garage_stocks = dict(collections.Counter(garage_stocks) + collections.Counter(garage_stock_to_add))\n",
    "            garage_demands = dict(collections.Counter(garage_demands) + collections.Counter(garage.demand))\n",
    "            i += 1\n",
    "\n",
    "        garage_stocks = {k: v / i for k, v in garage_stocks.items()}\n",
    "        garage_demands = {k: v / i for k, v in garage_demands.items()}\n",
    "\n",
    "    # Parts manufacturers, check both demand and stock\n",
    "    i = 0\n",
    "\n",
    "    for PM in model.all_agents[PartsManufacturer]:\n",
    "        if i == 0:\n",
    "            PM_stocks = get_stocks(PM)\n",
    "            PM_demands = PM.demand\n",
    "            i += 1\n",
    "        else:\n",
    "            PM_stock_to_add = get_stocks(PM)\n",
    "            PM_stocks = dict(collections.Counter(PM_stocks) + collections.Counter(PM_stock_to_add))\n",
    "            PM_demands = dict(collections.Counter(PM_demands) + collections.Counter(PM.demand))\n",
    "            i += 1\n",
    "\n",
    "        PM_stocks = {k: v / i for k, v in PM_stocks.items()}\n",
    "        PM_demands = {k: v / i for k, v in PM_demands.items()}\n",
    "\n",
    "    # Car manufacturers, check both demand and stock\n",
    "    i = 0\n",
    "\n",
    "    for CM in model.all_agents[CarManufacturer]:\n",
    "        if i == 0:\n",
    "            CM_stocks = get_stocks(CM)\n",
    "            CM_demands = CM.demand\n",
    "            i += 1\n",
    "        else:\n",
    "            CM_stock_to_add = get_stocks(CM)\n",
    "            CM_stocks = dict(collections.Counter(CM_stocks) + collections.Counter(CM_stock_to_add))\n",
    "            CM_demands = dict(collections.Counter(CM_demands) + collections.Counter(CM.demand))\n",
    "            i += 1\n",
    "\n",
    "        CM_stocks = {k: v / i for k, v in CM_stocks.items()}\n",
    "        CM_demands = {k: v / i for k, v in CM_demands.items()}\n",
    "\n",
    "    # Dismantlers, check stock\n",
    "    i = 0\n",
    "\n",
    "    for dismantler in model.all_agents[Dismantler]:\n",
    "        if i == 0:\n",
    "            dismantler_stocks = get_stocks(dismantler)\n",
    "            i += 1\n",
    "        else:\n",
    "            dismantler_stock_to_add = get_stocks(dismantler)\n",
    "            dismantler_stocks = dict(collections.Counter(dismantler_stocks) + collections.Counter(dismantler_stock_to_add))\n",
    "            i += 1\n",
    "\n",
    "        garage_stocks = {k: v / i for k, v in dismantler_stocks.items()}\n",
    "\n",
    "    # Recyclers, check stock\n",
    "    i = 0\n",
    "\n",
    "    for recycler in model.all_agents[Recycler]:\n",
    "        if i == 0:\n",
    "            recycler_stocks = get_stocks(recycler)\n",
    "            i += 1\n",
    "        else:\n",
    "            recycler_stock_to_add = get_stocks(recycler)\n",
    "            recycler_stocks = dict(collections.Counter(recycler_stocks) + collections.Counter(recycler_stock_to_add))\n",
    "            i += 1\n",
    "\n",
    "        recycler_stocks = {k: v / i for k, v in recycler_stocks.items()}\n",
    "\n",
    "    # Update the dataframes\n",
    "    update_list = [garage_stocks, garage_demands, PM_stocks, PM_demands, CM_stocks, CM_demands, dismantler_stocks, recycler_stocks]\n",
    "    data.append(update_list)\n",
    "\n",
    "    # And advance the model one step again.\n",
    "    model.step()\n",
    "\n",
    "columns = ['garage_stock', 'garage_demand', 'PM_stock', 'PM_demand', 'CM_stock', 'CM_demand', 'dismantler_stock', 'recycler_stock']\n",
    "calibration_df = pd.DataFrame(data=data, columns=columns)"
   ],
   "metadata": {
    "collapsed": false,
    "pycharm": {
     "name": "#%%\n"
    }
   }
  },
  {
   "cell_type": "markdown",
   "source": [
    "See below a brief overview of the TOTAL (not individual) demands and stocks of the last 50 steps."
   ],
   "metadata": {
    "collapsed": false,
    "pycharm": {
     "name": "#%% md\n"
    }
   }
  },
  {
   "cell_type": "code",
   "execution_count": 6,
   "outputs": [
    {
     "name": "stdout",
     "output_type": "stream",
     "text": [
      "garage_stock {<Component.PARTS_FOR_RECYCLER: 5>: 5.1, <Component.PARTS: 4>: 38.28}\n",
      "garage_demand {<Component.PARTS: 4>: 105.96}\n",
      "PM_stock {<Component.VIRGIN: 1>: 2.678351955335929, <Component.RECYCLATE_HIGH: 3>: 0.025781851406327636, <Component.PARTS: 4>: 9622.333333333332, <Component.RECYCLATE_LOW: 2>: 3.227973444097643e-16}\n",
      "PM_demand {<Component.VIRGIN: 1>: 101.75821314134316, <Component.RECYCLATE_LOW: 2>: 6.058453525323516, <Component.PARTS: 4>: 107.81666666666666}\n",
      "CM_stock {<Component.CARS: 6>: 11.670833333333333}\n",
      "CM_demand {<Component.PARTS: 4>: 31.00333333333334, <Component.CARS: 6>: 7.750833333333335}\n",
      "dismantler_stock {<Component.PARTS_FOR_RECYCLER: 5>: 5.1, <Component.PARTS: 4>: 38.28}\n",
      "recycler_stock {<Component.RECYCLATE_LOW: 2>: 9.43422832682544, <Component.RECYCLATE_HIGH: 3>: 52996.18944055571}\n"
     ]
    }
   ],
   "source": [
    "n_steps = len(calibration_df)\n",
    "\n",
    "# For every column\n",
    "for column in calibration_df:\n",
    "    # Retrieve means of the calibration steps and save in another dataframe.\n",
    "    mean_steps = {}\n",
    "\n",
    "    for step in calibration_df[column]:\n",
    "        mean_steps = dict(collections.Counter(mean_steps) + collections.Counter(step))\n",
    "\n",
    "    mean_steps = {k: v / n_steps for k, v in mean_steps.items()}\n",
    "    print(column, mean_steps)"
   ],
   "metadata": {
    "collapsed": false,
    "pycharm": {
     "name": "#%%\n"
    }
   }
  },
  {
   "cell_type": "code",
   "execution_count": 90,
   "outputs": [],
   "source": [
    "car_count = 0\n",
    "to_buy_car_count = 0\n",
    "\n",
    "for user in model.all_agents[User]:\n",
    "    if user.stock[Component.CARS]:\n",
    "        #print(user.stock[Component.CARS])\n",
    "        car_count += 1\n",
    "    elif user.demand[Component.CARS] == 1:\n",
    "        to_buy_car_count += 1"
   ],
   "metadata": {
    "collapsed": false,
    "pycharm": {
     "name": "#%%\n"
    }
   }
  },
  {
   "cell_type": "code",
   "execution_count": 91,
   "outputs": [
    {
     "name": "stdout",
     "output_type": "stream",
     "text": [
      "485 17\n"
     ]
    }
   ],
   "source": [
    "print(car_count, to_buy_car_count)"
   ],
   "metadata": {
    "collapsed": false,
    "pycharm": {
     "name": "#%%\n"
    }
   }
  },
  {
   "cell_type": "code",
   "execution_count": 92,
   "outputs": [],
   "source": [
    "model.step()"
   ],
   "metadata": {
    "collapsed": false,
    "pycharm": {
     "name": "#%%\n"
    }
   }
  },
  {
   "cell_type": "code",
   "execution_count": 93,
   "outputs": [
    {
     "name": "stdout",
     "output_type": "stream",
     "text": [
      "parts demand 114\n",
      "parts stock 107\n",
      "11.88160813774243\n",
      "4.440892098500626e-16\n",
      "0.056541662562187706\n",
      "{'last': 853, 'second_last': 770}\n",
      "\n",
      "parts demand 94\n",
      "parts stock 82\n",
      "2.0074348583347885\n",
      "4.440892098500626e-16\n",
      "0.05382097117687445\n",
      "{'last': 927, 'second_last': 847}\n",
      "\n",
      "parts demand 107\n",
      "parts stock 103\n",
      "20.971431643943234\n",
      "0.0\n",
      "7.0360384185619296e-15\n",
      "{'last': 746, 'second_last': 653}\n",
      "\n"
     ]
    }
   ],
   "source": [
    "for PM in model.all_agents[PartsManufacturer]:\n",
    "    print(\"parts demand\", PM.demand[Component.PARTS])\n",
    "    print(\"parts stock\", len(PM.stock[Component.PARTS]))\n",
    "    print(PM.stock[Component.VIRGIN])\n",
    "    print(PM.stock[Component.RECYCLATE_HIGH])\n",
    "    print(PM.stock[Component.RECYCLATE_LOW])\n",
    "    print(PM.sold_volume)\n",
    "    print(\"\")"
   ],
   "metadata": {
    "collapsed": false,
    "pycharm": {
     "name": "#%%\n"
    }
   }
  },
  {
   "cell_type": "code",
   "execution_count": 71,
   "outputs": [
    {
     "name": "stdout",
     "output_type": "stream",
     "text": [
      "48\n",
      "2\n",
      "53\n",
      "{'last': 36, 'second_last': 44}\n",
      "\n",
      "13\n",
      "0\n",
      "19\n",
      "{'last': 0, 'second_last': 0}\n",
      "\n",
      "9\n",
      "0\n",
      "18\n",
      "{'last': 0, 'second_last': 0}\n",
      "\n",
      "17\n",
      "2\n",
      "21\n",
      "{'last': 0, 'second_last': 17}\n",
      "\n"
     ]
    }
   ],
   "source": [
    "for CM in model.all_agents[CarManufacturer]:\n",
    "    print(CM.demand[Component.CARS])\n",
    "    print(len(CM.stock[Component.PARTS]))\n",
    "    print(len(CM.stock[Component.CARS]))\n",
    "    print(CM.sold_volume)\n",
    "    print(\"\")"
   ],
   "metadata": {
    "collapsed": false,
    "pycharm": {
     "name": "#%%\n"
    }
   }
  },
  {
   "cell_type": "code",
   "execution_count": 48,
   "outputs": [
    {
     "name": "stdout",
     "output_type": "stream",
     "text": [
      "[<model.bigger_components.Car object at 0x0000019FD22EB190>, <model.bigger_components.Car object at 0x0000019FD21F4B20>, <model.bigger_components.Car object at 0x0000019FD1CC9F00>, <model.bigger_components.Car object at 0x0000019FD2012A70>, <model.bigger_components.Car object at 0x0000019FD1CC9ED0>, <model.bigger_components.Car object at 0x0000019FD1F51C00>, <model.bigger_components.Car object at 0x0000019FD22B4FA0>, <model.bigger_components.Car object at 0x0000019FD22B4DF0>, <model.bigger_components.Car object at 0x0000019FD20A6DD0>, <model.bigger_components.Car object at 0x0000019FD22B66E0>, <model.bigger_components.Car object at 0x0000019FD2466800>, <model.bigger_components.Car object at 0x0000019FD21C6BC0>, <model.bigger_components.Car object at 0x0000019FD22EB4C0>, <model.bigger_components.Car object at 0x0000019FD2462B30>, <model.bigger_components.Car object at 0x0000019FD2012890>, <model.bigger_components.Car object at 0x0000019FD1CCACB0>, <model.bigger_components.Car object at 0x0000019FD1CC8C40>, <model.bigger_components.Car object at 0x0000019FD222BBE0>, <model.bigger_components.Car object at 0x0000019FD2228790>, <model.bigger_components.Car object at 0x0000019FD1CCAC80>, <model.bigger_components.Car object at 0x0000019FD225B550>, <model.bigger_components.Car object at 0x0000019FD2458A90>, <model.bigger_components.Car object at 0x0000019FD1F20D90>, <model.bigger_components.Car object at 0x0000019FD22E8D00>, <model.bigger_components.Car object at 0x0000019FD22586D0>, <model.bigger_components.Car object at 0x0000019FD2228850>, <model.bigger_components.Car object at 0x0000019FD1D4F6D0>, <model.bigger_components.Car object at 0x0000019FD2382AA0>, <model.bigger_components.Car object at 0x0000019FD22B6170>, <model.bigger_components.Car object at 0x0000019FD22B61D0>, <model.bigger_components.Car object at 0x0000019FD21F57E0>, <model.bigger_components.Car object at 0x0000019FD1FBA0B0>, <model.bigger_components.Car object at 0x0000019FD2458790>, <model.bigger_components.Car object at 0x0000019FD2049B70>, <model.bigger_components.Car object at 0x0000019FD210AC50>, <model.bigger_components.Car object at 0x0000019FD2459B10>, <model.bigger_components.Car object at 0x0000019FD1E2D2A0>, <model.bigger_components.Car object at 0x0000019FD21F4700>, <model.bigger_components.Car object at 0x0000019FD2049030>, <model.bigger_components.Car object at 0x0000019FD1E2E9B0>, <model.bigger_components.Car object at 0x0000019FD24671C0>, <model.bigger_components.Car object at 0x0000019FD1CC82B0>, <model.bigger_components.Car object at 0x0000019FD1CC8A00>, <model.bigger_components.Car object at 0x0000019FD2108550>, <model.bigger_components.Car object at 0x0000019FD22EB070>, <model.bigger_components.Car object at 0x0000019FD1C8A800>, <model.bigger_components.Car object at 0x0000019FD2395990>, <model.bigger_components.Car object at 0x0000019FD21670A0>, <model.bigger_components.Car object at 0x0000019FB94429E0>, <model.bigger_components.Car object at 0x0000019FD2012830>, <model.bigger_components.Car object at 0x0000019FD2463370>, <model.bigger_components.Car object at 0x0000019FD1D8BCD0>, <model.bigger_components.Car object at 0x0000019FD204A4D0>, <model.bigger_components.Car object at 0x0000019FD204A9E0>, <model.bigger_components.Car object at 0x0000019FD204AA70>, <model.bigger_components.Car object at 0x0000019FD1D8BBB0>, <model.bigger_components.Car object at 0x0000019FD1D4C820>, <model.bigger_components.Car object at 0x0000019FD245AFB0>, <model.bigger_components.Car object at 0x0000019FD245AFE0>, <model.bigger_components.Car object at 0x0000019FD2078610>, <model.bigger_components.Car object at 0x0000019FD2371A20>, <model.bigger_components.Car object at 0x0000019FD1E5F3D0>, <model.bigger_components.Car object at 0x0000019FD22EBDC0>, <model.bigger_components.Car object at 0x0000019FD1E2C460>, <model.bigger_components.Car object at 0x0000019FD21F5630>, <model.bigger_components.Car object at 0x0000019FD1D8BAF0>, <model.bigger_components.Car object at 0x0000019FD2010D90>, <model.bigger_components.Car object at 0x0000019FD222A050>, <model.bigger_components.Car object at 0x0000019FD2380FA0>, <model.bigger_components.Car object at 0x0000019FD2108A60>, <model.bigger_components.Car object at 0x0000019FD1D4D0C0>, <model.bigger_components.Car object at 0x0000019FD21F7100>, <model.bigger_components.Car object at 0x0000019FD2380F70>, <model.bigger_components.Car object at 0x0000019FD21F5B70>, <model.bigger_components.Car object at 0x0000019FD2383190>, <model.bigger_components.Car object at 0x0000019FD22B65F0>, <model.bigger_components.Car object at 0x0000019FD1E2DDB0>, <model.bigger_components.Car object at 0x0000019FD2049090>, <model.bigger_components.Car object at 0x0000019FD1D8BB80>, <model.bigger_components.Car object at 0x0000019FB9B170D0>, <model.bigger_components.Car object at 0x0000019FD23E1570>, <model.bigger_components.Car object at 0x0000019FD23BCBE0>, <model.bigger_components.Car object at 0x0000019FD1D51930>, <model.bigger_components.Car object at 0x0000019FD1CCAE30>, <model.bigger_components.Car object at 0x0000019FD23E0A90>, <model.bigger_components.Car object at 0x0000019FD1D53E20>, <model.bigger_components.Car object at 0x0000019FD2465AB0>, <model.bigger_components.Car object at 0x0000019FD2286AA0>, <model.bigger_components.Car object at 0x0000019FD1F50D00>, <model.bigger_components.Car object at 0x0000019FD225B220>, <model.bigger_components.Car object at 0x0000019FD238FA60>, <model.bigger_components.Car object at 0x0000019FD23841F0>, <model.bigger_components.Car object at 0x0000019FD21C4100>, <model.bigger_components.Car object at 0x0000019FD2010D00>, <model.bigger_components.Car object at 0x0000019FD2460EB0>, <model.bigger_components.Car object at 0x0000019FD2011090>, <model.bigger_components.Car object at 0x0000019FD2010850>, <model.bigger_components.Car object at 0x0000019FD23B4370>, <model.bigger_components.Car object at 0x0000019FD2460E50>, <model.bigger_components.Car object at 0x0000019FD2013B50>, <model.bigger_components.Car object at 0x0000019FD2463790>, <model.bigger_components.Car object at 0x0000019FD22B4100>, <model.bigger_components.Car object at 0x0000019FD20110C0>, <model.bigger_components.Car object at 0x0000019FD22B7FD0>, <model.bigger_components.Car object at 0x0000019FD2012E90>, <model.bigger_components.Car object at 0x0000019FD22B5330>, <model.bigger_components.Car object at 0x0000019FD24570D0>, <model.bigger_components.Car object at 0x0000019FD2382740>, <model.bigger_components.Car object at 0x0000019FD1E2C040>, <model.bigger_components.Car object at 0x0000019FD2382350>, <model.bigger_components.Car object at 0x0000019FD20D9FC0>, <model.bigger_components.Car object at 0x0000019FB9B41030>, <model.bigger_components.Car object at 0x0000019FD2108610>, <model.bigger_components.Car object at 0x0000019FD2108760>, <model.bigger_components.Car object at 0x0000019FD2199630>, <model.bigger_components.Car object at 0x0000019FD1CC9300>, <model.bigger_components.Car object at 0x0000019FD1E2EDA0>, <model.bigger_components.Car object at 0x0000019FD207BF40>, <model.bigger_components.Car object at 0x0000019FD22864D0>, <model.bigger_components.Car object at 0x0000019FD21090F0>, <model.bigger_components.Car object at 0x0000019FD1E2EC20>, <model.bigger_components.Car object at 0x0000019FD22E8E80>, <model.bigger_components.Car object at 0x0000019FD2165540>, <model.bigger_components.Car object at 0x0000019FD2258D30>, <model.bigger_components.Car object at 0x0000019FD22E8D90>, <model.bigger_components.Car object at 0x0000019FD21653F0>, <model.bigger_components.Car object at 0x0000019FD1E2C790>, <model.bigger_components.Car object at 0x0000019FD22E9420>, <model.bigger_components.Car object at 0x0000019FD2285AB0>, <model.bigger_components.Car object at 0x0000019FD23B5A80>, <model.bigger_components.Car object at 0x0000019FD23BF640>, <model.bigger_components.Car object at 0x0000019FD2078BE0>, <model.bigger_components.Car object at 0x0000019FD2166590>, <model.bigger_components.Car object at 0x0000019FD1D8B9A0>, <model.bigger_components.Car object at 0x0000019FD1FE2920>, <model.bigger_components.Car object at 0x0000019FD1F500A0>, <model.bigger_components.Car object at 0x0000019FD1D4F070>, <model.bigger_components.Car object at 0x0000019FD1FB9FF0>, <model.bigger_components.Car object at 0x0000019FD1DA81F0>, <model.bigger_components.Car object at 0x0000019FD2285B40>, <model.bigger_components.Car object at 0x0000019FD20D9540>, <model.bigger_components.Car object at 0x0000019FD1D8B190>, <model.bigger_components.Car object at 0x0000019FD23B7250>, <model.bigger_components.Car object at 0x0000019FD22EA800>, <model.bigger_components.Car object at 0x0000019FD21308B0>, <model.bigger_components.Car object at 0x0000019FD1FBB040>, <model.bigger_components.Car object at 0x0000019FD2285B70>, <model.bigger_components.Car object at 0x0000019FD22EA170>, <model.bigger_components.Car object at 0x0000019FD22E81C0>, <model.bigger_components.Car object at 0x0000019FD2078D00>, <model.bigger_components.Car object at 0x0000019FD21095A0>, <model.bigger_components.Car object at 0x0000019FD23BCA60>, <model.bigger_components.Car object at 0x0000019FD1F50160>, <model.bigger_components.Car object at 0x0000019FD20A40A0>, <model.bigger_components.Car object at 0x0000019FD1D8A890>, <model.bigger_components.Car object at 0x0000019FD1E8CD90>, <model.bigger_components.Car object at 0x0000019FD1D8B610>, <model.bigger_components.Car object at 0x0000019FD20795D0>, <model.bigger_components.Car object at 0x0000019FD1F83E20>, <model.bigger_components.Car object at 0x0000019FD1D8B400>, <model.bigger_components.Car object at 0x0000019FD1E8CD30>, <model.bigger_components.Car object at 0x0000019FD2381840>, <model.bigger_components.Car object at 0x0000019FD1FBB700>, <model.bigger_components.Car object at 0x0000019FD1E5D630>, <model.bigger_components.Car object at 0x0000019FD2380EE0>, <model.bigger_components.Car object at 0x0000019FD210ABF0>, <model.bigger_components.Car object at 0x0000019FD1CCA770>, <model.bigger_components.Car object at 0x0000019FD20123E0>, <model.bigger_components.Car object at 0x0000019FD1F53820>, <model.bigger_components.Car object at 0x0000019FD20A44C0>, <model.bigger_components.Car object at 0x0000019FD2078520>, <model.bigger_components.Car object at 0x0000019FD22B5390>, <model.bigger_components.Car object at 0x0000019FD1D4D630>, <model.bigger_components.Car object at 0x0000019FD21F4CD0>, <model.bigger_components.Car object at 0x0000019FD1D4D210>, <model.bigger_components.Car object at 0x0000019FD1F21D20>, <model.bigger_components.Car object at 0x0000019FD2012500>, <model.bigger_components.Car object at 0x0000019FD22B6710>, <model.bigger_components.Car object at 0x0000019FD21F4820>, <model.bigger_components.Car object at 0x0000019FD1F50E50>, <model.bigger_components.Car object at 0x0000019FD1F21300>, <model.bigger_components.Car object at 0x0000019FD1F21EA0>, <model.bigger_components.Car object at 0x0000019FD22E8610>, <model.bigger_components.Car object at 0x0000019FD1CC8250>, <model.bigger_components.Car object at 0x0000019FD1D89B40>, <model.bigger_components.Car object at 0x0000019FD1CCA9B0>, <model.bigger_components.Car object at 0x0000019FD1D8B010>, <model.bigger_components.Car object at 0x0000019FD22EA770>, <model.bigger_components.Car object at 0x0000019FD20127A0>, <model.bigger_components.Car object at 0x0000019FD2259C30>, <model.bigger_components.Car object at 0x0000019FD2458970>, <model.bigger_components.Car object at 0x0000019FD1CCAC50>, <model.bigger_components.Car object at 0x0000019FD22E9810>, <model.bigger_components.Car object at 0x0000019FD20A7CD0>, <model.bigger_components.Car object at 0x0000019FD2370A60>, <model.bigger_components.Car object at 0x0000019FD22E8C10>, <model.bigger_components.Car object at 0x0000019FD1CC9180>, <model.bigger_components.Car object at 0x0000019FD22B62C0>, <model.bigger_components.Car object at 0x0000019FD24589A0>, <model.bigger_components.Car object at 0x0000019FD1CBD8A0>, <model.bigger_components.Car object at 0x0000019FD1CCB490>, <model.bigger_components.Car object at 0x0000019FD204A470>, <model.bigger_components.Car object at 0x0000019FD20A7100>, <model.bigger_components.Car object at 0x0000019FD210AD40>, <model.bigger_components.Car object at 0x0000019FD2382A70>, <model.bigger_components.Car object at 0x0000019FD21F4130>, <model.bigger_components.Car object at 0x0000019FD1E2D300>, <model.bigger_components.Car object at 0x0000019FD22E89D0>, <model.bigger_components.Car object at 0x0000019FD21F41F0>, <model.bigger_components.Car object at 0x0000019FD23B7A90>, <model.bigger_components.Car object at 0x0000019FD2460160>, <model.bigger_components.Car object at 0x0000019FD2456E30>, <model.bigger_components.Car object at 0x0000019FD21F6F50>, <model.bigger_components.Car object at 0x0000019FD22EB100>, <model.bigger_components.Car object at 0x0000019FD1C8BE80>, <model.bigger_components.Car object at 0x0000019FD225B3A0>, <model.bigger_components.Car object at 0x0000019FD1CC8E20>, <model.bigger_components.Car object at 0x0000019FD1CCA350>, <model.bigger_components.Car object at 0x0000019FD1CBF970>, <model.bigger_components.Car object at 0x0000019FD225B280>, <model.bigger_components.Car object at 0x0000019FD21082B0>, <model.bigger_components.Car object at 0x0000019FD2049990>, <model.bigger_components.Car object at 0x0000019FD20A5030>, <model.bigger_components.Car object at 0x0000019FD2049A20>, <model.bigger_components.Car object at 0x0000019FD20498D0>, <model.bigger_components.Car object at 0x0000019FD1E5C250>, <model.bigger_components.Car object at 0x0000019FD2078670>, <model.bigger_components.Car object at 0x0000019FD225B310>, <model.bigger_components.Car object at 0x0000019FD21F7A00>, <model.bigger_components.Car object at 0x0000019FD1E5C310>, <model.bigger_components.Car object at 0x0000019FD22EBE50>, <model.bigger_components.Car object at 0x0000019FD23B6F50>, <model.bigger_components.Car object at 0x0000019FD2049C00>, <model.bigger_components.Car object at 0x0000019FD2049A50>, <model.bigger_components.Car object at 0x0000019FD22E9630>, <model.bigger_components.Car object at 0x0000019FD21F6200>, <model.bigger_components.Car object at 0x0000019FD225B250>, <model.bigger_components.Car object at 0x0000019FD1E5F3A0>, <model.bigger_components.Car object at 0x0000019FD21F6EC0>, <model.bigger_components.Car object at 0x0000019FD1E5F580>, <model.bigger_components.Car object at 0x0000019FD21C68F0>, <model.bigger_components.Car object at 0x0000019FD21679A0>, <model.bigger_components.Car object at 0x0000019FD2461BA0>, <model.bigger_components.Car object at 0x0000019FD2164AC0>, <model.bigger_components.Car object at 0x0000019FD204A5F0>, <model.bigger_components.Car object at 0x0000019FD1D8BA00>, <model.bigger_components.Car object at 0x0000019FD2048DC0>]\n",
      "0\n",
      "[<model.bigger_components.Car object at 0x0000019FD1D52B60>, <model.bigger_components.Car object at 0x0000019FD1D52F50>, <model.bigger_components.Car object at 0x0000019FD210B760>, <model.bigger_components.Car object at 0x0000019FD22B63B0>, <model.bigger_components.Car object at 0x0000019FD231D2A0>, <model.bigger_components.Car object at 0x0000019FD22EAFB0>, <model.bigger_components.Car object at 0x0000019FD1CC9750>, <model.bigger_components.Car object at 0x0000019FD2461600>, <model.bigger_components.Car object at 0x0000019FD22B7430>, <model.bigger_components.Car object at 0x0000019FD21093F0>, <model.bigger_components.Car object at 0x0000019FD238FFA0>, <model.bigger_components.Car object at 0x0000019FD2382B90>, <model.bigger_components.Car object at 0x0000019FD1F52C80>, <model.bigger_components.Car object at 0x0000019FD22EB010>, <model.bigger_components.Car object at 0x0000019FD22B4850>, <model.bigger_components.Car object at 0x0000019FD2164550>, <model.bigger_components.Car object at 0x0000019FD238DE70>, <model.bigger_components.Car object at 0x0000019FD2382BC0>, <model.bigger_components.Car object at 0x0000019FB9B43040>, <model.bigger_components.Car object at 0x0000019FD225B070>, <model.bigger_components.Car object at 0x0000019FD2373280>, <model.bigger_components.Car object at 0x0000019FD23B4F40>, <model.bigger_components.Car object at 0x0000019FD2373250>, <model.bigger_components.Car object at 0x0000019FD2164520>, <model.bigger_components.Car object at 0x0000019FD2108B50>, <model.bigger_components.Car object at 0x0000019FD21C4070>, <model.bigger_components.Car object at 0x0000019FD2463760>, <model.bigger_components.Car object at 0x0000019FD2079390>, <model.bigger_components.Car object at 0x0000019FD22B40D0>, <model.bigger_components.Car object at 0x0000019FD2108400>, <model.bigger_components.Car object at 0x0000019FD23826B0>, <model.bigger_components.Car object at 0x0000019FD23B77F0>, <model.bigger_components.Car object at 0x0000019FD22B7340>, <model.bigger_components.Car object at 0x0000019FD1E05780>, <model.bigger_components.Car object at 0x0000019FD2048250>, <model.bigger_components.Car object at 0x0000019FD2380CD0>, <model.bigger_components.Car object at 0x0000019FD207BA30>, <model.bigger_components.Car object at 0x0000019FD22852D0>, <model.bigger_components.Car object at 0x0000019FB9B43DF0>, <model.bigger_components.Car object at 0x0000019FD2457100>, <model.bigger_components.Car object at 0x0000019FD2048A90>, <model.bigger_components.Car object at 0x0000019FB9B43520>, <model.bigger_components.Car object at 0x0000019FB9B40250>, <model.bigger_components.Car object at 0x0000019FD20DA1A0>, <model.bigger_components.Car object at 0x0000019FD22EBE20>, <model.bigger_components.Car object at 0x0000019FD20D8070>, <model.bigger_components.Car object at 0x0000019FD2258DF0>, <model.bigger_components.Car object at 0x0000019FD2167970>, <model.bigger_components.Car object at 0x0000019FD23B7700>, <model.bigger_components.Car object at 0x0000019FB9B40F10>, <model.bigger_components.Car object at 0x0000019FD21996C0>, <model.bigger_components.Car object at 0x0000019FD20130A0>, <model.bigger_components.Car object at 0x0000019FD1D8B460>, <model.bigger_components.Car object at 0x0000019FD21996F0>, <model.bigger_components.Car object at 0x0000019FD21997E0>, <model.bigger_components.Car object at 0x0000019FD2287820>, <model.bigger_components.Car object at 0x0000019FD20D97E0>, <model.bigger_components.Car object at 0x0000019FD2011150>, <model.bigger_components.Car object at 0x0000019FD2165420>, <model.bigger_components.Car object at 0x0000019FD23B44C0>, <model.bigger_components.Car object at 0x0000019FD20D94E0>, <model.bigger_components.Car object at 0x0000019FD2287910>, <model.bigger_components.Car object at 0x0000019FD2461A20>, <model.bigger_components.Car object at 0x0000019FD22B6C80>, <model.bigger_components.Car object at 0x0000019FD22865F0>, <model.bigger_components.Car object at 0x0000019FD23812D0>, <model.bigger_components.Car object at 0x0000019FD2287310>, <model.bigger_components.Car object at 0x0000019FD1E05840>, <model.bigger_components.Car object at 0x0000019FD1D8AF20>, <model.bigger_components.Car object at 0x0000019FD23BFB50>, <model.bigger_components.Car object at 0x0000019FD1DA8220>, <model.bigger_components.Car object at 0x0000019FD1CC8F40>, <model.bigger_components.Car object at 0x0000019FD1E05870>, <model.bigger_components.Car object at 0x0000019FD1F50070>, <model.bigger_components.Car object at 0x0000019FD1D8A860>, <model.bigger_components.Car object at 0x0000019FB98098D0>, <model.bigger_components.Car object at 0x0000019FD2382B00>, <model.bigger_components.Car object at 0x0000019FD2381B70>, <model.bigger_components.Car object at 0x0000019FD2381B40>, <model.bigger_components.Car object at 0x0000019FD1FBA050>, <model.bigger_components.Car object at 0x0000019FD222BC70>, <model.bigger_components.Car object at 0x0000019FD1E8CBB0>, <model.bigger_components.Car object at 0x0000019FD23820E0>, <model.bigger_components.Car object at 0x0000019FD2010DC0>, <model.bigger_components.Car object at 0x0000019FD23806A0>, <model.bigger_components.Car object at 0x0000019FD20A7010>, <model.bigger_components.Car object at 0x0000019FD22E87C0>, <model.bigger_components.Car object at 0x0000019FD1F51FC0>, <model.bigger_components.Car object at 0x0000019FD1E8CB50>, <model.bigger_components.Car object at 0x0000019FD22B6E30>, <model.bigger_components.Car object at 0x0000019FD1FBB730>, <model.bigger_components.Car object at 0x0000019FD22EBDF0>, <model.bigger_components.Car object at 0x0000019FD20A4100>, <model.bigger_components.Car object at 0x0000019FD2380640>, <model.bigger_components.Car object at 0x0000019FD20A4190>, <model.bigger_components.Car object at 0x0000019FD2078460>, <model.bigger_components.Car object at 0x0000019FD1D4F850>, <model.bigger_components.Car object at 0x0000019FD2381E70>, <model.bigger_components.Car object at 0x0000019FD20794E0>, <model.bigger_components.Car object at 0x0000019FD22EA9E0>, <model.bigger_components.Car object at 0x0000019FD22EA2F0>, <model.bigger_components.Car object at 0x0000019FD1CC97E0>, <model.bigger_components.Car object at 0x0000019FD24581F0>, <model.bigger_components.Car object at 0x0000019FD1F21CF0>, <model.bigger_components.Car object at 0x0000019FD1EC55A0>, <model.bigger_components.Car object at 0x0000019FD2078550>, <model.bigger_components.Car object at 0x0000019FD22EAF80>, <model.bigger_components.Car object at 0x0000019FD22B5540>, <model.bigger_components.Car object at 0x0000019FD1EC7460>, <model.bigger_components.Car object at 0x0000019FD2012740>, <model.bigger_components.Car object at 0x0000019FD1DCAC50>, <model.bigger_components.Car object at 0x0000019FD1D4D840>, <model.bigger_components.Car object at 0x0000019FD1CBDD20>, <model.bigger_components.Car object at 0x0000019FD2012770>, <model.bigger_components.Car object at 0x0000019FD22B5630>, <model.bigger_components.Car object at 0x0000019FD22B4E80>, <model.bigger_components.Car object at 0x0000019FD1F22DA0>, <model.bigger_components.Car object at 0x0000019FD2049DB0>, <model.bigger_components.Car object at 0x0000019FD23B5450>, <model.bigger_components.Car object at 0x0000019FD22B4AC0>, <model.bigger_components.Car object at 0x0000019FD22E9960>, <model.bigger_components.Car object at 0x0000019FD225B7C0>, <model.bigger_components.Car object at 0x0000019FD225B4F0>, <model.bigger_components.Car object at 0x0000019FD22EA260>, <model.bigger_components.Car object at 0x0000019FD22E8CD0>, <model.bigger_components.Car object at 0x0000019FD20A70D0>, <model.bigger_components.Car object at 0x0000019FD22E9480>, <model.bigger_components.Car object at 0x0000019FD2049C60>, <model.bigger_components.Car object at 0x0000019FD1FBA2F0>, <model.bigger_components.Car object at 0x0000019FD22E8940>, <model.bigger_components.Car object at 0x0000019FD21F4F70>, <model.bigger_components.Car object at 0x0000019FD24587C0>, <model.bigger_components.Car object at 0x0000019FD20490F0>, <model.bigger_components.Car object at 0x0000019FD24671F0>, <model.bigger_components.Car object at 0x0000019FD22E8310>, <model.bigger_components.Car object at 0x0000019FD1CCB4C0>, <model.bigger_components.Car object at 0x0000019FD22E8970>, <model.bigger_components.Car object at 0x0000019FD22E89A0>, <model.bigger_components.Car object at 0x0000019FD21F40D0>, <model.bigger_components.Car object at 0x0000019FD1CBF130>, <model.bigger_components.Car object at 0x0000019FD219B940>, <model.bigger_components.Car object at 0x0000019FD2458490>, <model.bigger_components.Car object at 0x0000019FB9B16AA0>, <model.bigger_components.Car object at 0x0000019FD24584C0>, <model.bigger_components.Car object at 0x0000019FD1E2E800>, <model.bigger_components.Car object at 0x0000019FD21F7E80>, <model.bigger_components.Car object at 0x0000019FD1E2E830>, <model.bigger_components.Car object at 0x0000019FD22EB6A0>, <model.bigger_components.Car object at 0x0000019FD1F50BB0>, <model.bigger_components.Car object at 0x0000019FD20A53F0>, <model.bigger_components.Car object at 0x0000019FD22EBAF0>, <model.bigger_components.Car object at 0x0000019FD2463340>, <model.bigger_components.Car object at 0x0000019FD21F76A0>, <model.bigger_components.Car object at 0x0000019FD1D8BD00>, <model.bigger_components.Car object at 0x0000019FD22EBB20>, <model.bigger_components.Car object at 0x0000019FD225B5E0>, <model.bigger_components.Car object at 0x0000019FD24602E0>, <model.bigger_components.Car object at 0x0000019FD204AAA0>, <model.bigger_components.Car object at 0x0000019FD22EB250>, <model.bigger_components.Car object at 0x0000019FD1CBF940>, <model.bigger_components.Car object at 0x0000019FD204A980>, <model.bigger_components.Car object at 0x0000019FD22EA2C0>, <model.bigger_components.Car object at 0x0000019FD20787C0>, <model.bigger_components.Car object at 0x0000019FD2458910>, <model.bigger_components.Car object at 0x0000019FD21C6980>, <model.bigger_components.Car object at 0x0000019FD22EBF10>, <model.bigger_components.Car object at 0x0000019FD22EBE80>, <model.bigger_components.Car object at 0x0000019FD23BD1E0>, <model.bigger_components.Car object at 0x0000019FD2458460>, <model.bigger_components.Car object at 0x0000019FD210B8E0>, <model.bigger_components.Car object at 0x0000019FD222A020>, <model.bigger_components.Car object at 0x0000019FD2229420>, <model.bigger_components.Car object at 0x0000019FD1E5FD90>, <model.bigger_components.Car object at 0x0000019FD2460190>, <model.bigger_components.Car object at 0x0000019FD2458940>, <model.bigger_components.Car object at 0x0000019FD238F940>, <model.bigger_components.Car object at 0x0000019FD1D4D090>, <model.bigger_components.Car object at 0x0000019FD21F5AE0>, <model.bigger_components.Car object at 0x0000019FD1E2C9A0>, <model.bigger_components.Car object at 0x0000019FD21F73A0>, <model.bigger_components.Car object at 0x0000019FD2132440>, <model.bigger_components.Car object at 0x0000019FD2167A30>, <model.bigger_components.Car object at 0x0000019FD2132470>, <model.bigger_components.Car object at 0x0000019FD2466740>, <model.bigger_components.Car object at 0x0000019FD2048D90>, <model.bigger_components.Car object at 0x0000019FD2048DF0>]\n",
      "0\n"
     ]
    }
   ],
   "source": [
    "for garage in model.all_agents[Garage]:\n",
    "    print(garage.stock[Component.CARS])\n",
    "    print(len(garage.stock[Component.PARTS]))"
   ],
   "metadata": {
    "collapsed": false,
    "pycharm": {
     "name": "#%%\n"
    }
   }
  }
 ],
 "metadata": {
  "kernelspec": {
   "display_name": "Python 3",
   "language": "python",
   "name": "python3"
  },
  "language_info": {
   "codemirror_mode": {
    "name": "ipython",
    "version": 2
   },
   "file_extension": ".py",
   "mimetype": "text/x-python",
   "name": "python",
   "nbconvert_exporter": "python",
   "pygments_lexer": "ipython2",
   "version": "2.7.6"
  }
 },
 "nbformat": 4,
 "nbformat_minor": 0
}