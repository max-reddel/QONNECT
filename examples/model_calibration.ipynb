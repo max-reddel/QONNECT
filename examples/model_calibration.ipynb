{
 "cells": [
  {
   "cell_type": "markdown",
   "metadata": {
    "collapsed": true,
    "pycharm": {
     "name": "#%% md\n"
    }
   },
   "source": [
    "# Model calibration\n",
    "This notebook contains a calibration of the model for the current number of agents. Usually ABMs are not linearly scalable and therefore this procedure should be followed for model calibration, to avoid unnecessary long start-up time of the model and thus a wastage of computing power. Because the RIVM stakeholders mentioned during one of the final meetings that they were especially interested in the process of model-building, this notebook is an annex to assist for when the model is built. Note that in case this model will be extended, this notebook will require to be extended, since it only includes current variables. However, most certainly the process stays the same.\n",
    "\n",
    "Calibration outcomes of the model need to be implemented directly in the agents manually. Due to ABMs being stochastic, initial values will not be perfect but provide a good starting point. First we will be importing the model in the notebook and set it up in such a way that all policies and scenarios are turned off to see whether we can get the model in some sort of equilibrium."
   ]
  },
  {
   "cell_type": "code",
   "execution_count": 1,
   "outputs": [],
   "source": [
    "from model.cepai_model import *\n",
    "\n",
    "levers = {\n",
    "    \"L1\": 0.0,  # Minimal requirement for reused parts\n",
    "    \"L2\": 0.0,  # Minimal requirement for high-quality plastic\n",
    "    \"L3\": 0.0,  # Use better solvable cohesives\n",
    "    \"L4\": 1.0,  # Include externality for virgin plastic\n",
    "    \"L5\": 0.05   # Minimal requirement for recyclate, calibrated for 5% according to Volvo.\n",
    "        }\n",
    "\n",
    "uncertainties = {\n",
    "    \"X1\": 0.0,  # Annual increase factor of oil price\n",
    "    \"X2\": 0.0,  # Annual probability for global oil shock\n",
    "    \"X3\": 0.0   # Annual increase of recycling efficiency\n",
    "        }"
   ],
   "metadata": {
    "collapsed": false,
    "pycharm": {
     "name": "#%%\n"
    }
   }
  },
  {
   "cell_type": "code",
   "execution_count": 2,
   "outputs": [
    {
     "name": "stdout",
     "output_type": "stream",
     "text": [
      "Simulation starting...\n"
     ]
    }
   ],
   "source": [
    "model = CEPAIModel(levers=levers, uncertainties=uncertainties)"
   ],
   "metadata": {
    "collapsed": false,
    "pycharm": {
     "name": "#%%\n"
    }
   }
  },
  {
   "cell_type": "code",
   "execution_count": 3,
   "outputs": [
    {
     "name": "stdout",
     "output_type": "stream",
     "text": [
      "Step: 0\n",
      "Step: 1\n",
      "Step: 2\n",
      "Step: 3\n",
      "Step: 4\n",
      "Step: 5\n",
      "Step: 6\n",
      "Step: 7\n",
      "Step: 8\n",
      "Step: 9\n",
      "Step: 10\n",
      "Step: 11\n",
      "Step: 12\n",
      "Step: 13\n",
      "Step: 14\n",
      "Step: 15\n",
      "Step: 16\n",
      "Step: 17\n",
      "Step: 18\n",
      "Step: 19\n",
      "Step: 20\n",
      "Step: 21\n",
      "Step: 22\n",
      "Step: 23\n",
      "Step: 24\n",
      "Step: 25\n",
      "Step: 26\n",
      "Step: 27\n",
      "Step: 28\n",
      "Step: 29\n",
      "Step: 30\n",
      "Step: 31\n",
      "Step: 32\n",
      "Step: 33\n",
      "Step: 34\n",
      "Step: 35\n",
      "Step: 36\n",
      "Step: 37\n",
      "Step: 38\n",
      "Step: 39\n",
      "Step: 40\n",
      "Step: 41\n",
      "Step: 42\n",
      "Step: 43\n",
      "Step: 44\n",
      "Step: 45\n",
      "Step: 46\n",
      "Step: 47\n",
      "Step: 48\n",
      "Step: 49\n",
      "Step: 50\n",
      "Step: 51\n",
      "Step: 52\n",
      "Step: 53\n",
      "Step: 54\n",
      "Step: 55\n",
      "Step: 56\n",
      "Step: 57\n",
      "Step: 58\n",
      "Step: 59\n",
      "Step: 60\n",
      "Step: 61\n",
      "Step: 62\n",
      "Step: 63\n",
      "Step: 64\n",
      "Step: 65\n",
      "Step: 66\n",
      "Step: 67\n",
      "Step: 68\n",
      "Step: 69\n",
      "Step: 70\n",
      "Step: 71\n",
      "Step: 72\n",
      "Step: 73\n",
      "Step: 74\n",
      "Step: 75\n",
      "Step: 76\n",
      "Step: 77\n",
      "Step: 78\n",
      "Step: 79\n",
      "Step: 80\n",
      "Step: 81\n",
      "Step: 82\n",
      "Step: 83\n",
      "Step: 84\n",
      "Step: 85\n",
      "Step: 86\n",
      "Step: 87\n",
      "Step: 88\n",
      "Step: 89\n",
      "Step: 90\n",
      "Step: 91\n",
      "Step: 92\n",
      "Step: 93\n",
      "Step: 94\n",
      "Step: 95\n",
      "Step: 96\n",
      "Step: 97\n",
      "Step: 98\n",
      "Step: 99\n",
      "Step: 100\n",
      "Step: 101\n",
      "Step: 102\n",
      "Step: 103\n",
      "Step: 104\n",
      "Step: 105\n",
      "Step: 106\n",
      "Step: 107\n",
      "Step: 108\n",
      "Step: 109\n",
      "Step: 110\n",
      "Step: 111\n",
      "Step: 112\n",
      "Step: 113\n",
      "Step: 114\n",
      "Step: 115\n",
      "Step: 116\n",
      "Step: 117\n",
      "Step: 118\n",
      "Step: 119\n",
      "Step: 120\n",
      "Step: 121\n",
      "Step: 122\n",
      "Step: 123\n",
      "Step: 124\n",
      "Step: 125\n",
      "Step: 126\n",
      "Step: 127\n",
      "Step: 128\n",
      "Step: 129\n",
      "Step: 130\n",
      "Step: 131\n",
      "Step: 132\n",
      "Step: 133\n",
      "Step: 134\n",
      "Step: 135\n",
      "Step: 136\n",
      "Step: 137\n",
      "Step: 138\n",
      "Step: 139\n",
      "Step: 140\n",
      "Step: 141\n",
      "Step: 142\n",
      "Step: 143\n",
      "Step: 144\n",
      "Step: 145\n",
      "Step: 146\n",
      "Step: 147\n",
      "Step: 148\n",
      "Step: 149\n",
      "Run time: 84.19 seconds\n",
      "Simulation completed!\n"
     ]
    }
   ],
   "source": [
    "model_stabilisation_run = model.run(steps=150, time_tracking=True, debug=True)"
   ],
   "metadata": {
    "collapsed": false,
    "pycharm": {
     "name": "#%%\n"
    }
   }
  },
  {
   "cell_type": "markdown",
   "source": [
    "And next we will run steps for gathering mean data to provide a good starting point for the experimental model runs. There are multiple things we need initial values for: stocks and demands. For garages we will not initially set up stocks with cars, as these belong to users and this will unnecessarily complicate the process."
   ],
   "metadata": {
    "collapsed": false,
    "pycharm": {
     "name": "#%% md\n"
    }
   }
  },
  {
   "cell_type": "code",
   "execution_count": 4,
   "outputs": [],
   "source": [
    "def get_stocks(agent):\n",
    "    agent_stocks = {}\n",
    "\n",
    "    for component, stocks in agent.stock.items():\n",
    "        if isinstance(stocks, (float or int)):\n",
    "            agent_stocks[component] = stocks\n",
    "        elif isinstance(stocks, list):\n",
    "            agent_stocks[component] = len(stocks)\n",
    "\n",
    "    return agent_stocks"
   ],
   "metadata": {
    "collapsed": false,
    "pycharm": {
     "name": "#%%\n"
    }
   }
  },
  {
   "cell_type": "code",
   "execution_count": 5,
   "outputs": [
    {
     "name": "stdout",
     "output_type": "stream",
     "text": [
      "Step: 0\n",
      "Step: 1\n",
      "Step: 2\n",
      "Step: 3\n",
      "Step: 4\n",
      "Step: 5\n",
      "Step: 6\n",
      "Step: 7\n",
      "Step: 8\n",
      "Step: 9\n",
      "Step: 10\n",
      "Step: 11\n",
      "Step: 12\n",
      "Step: 13\n",
      "Step: 14\n",
      "Step: 15\n",
      "Step: 16\n",
      "Step: 17\n",
      "Step: 18\n",
      "Step: 19\n",
      "Step: 20\n",
      "Step: 21\n",
      "Step: 22\n",
      "Step: 23\n",
      "Step: 24\n",
      "Step: 25\n",
      "Step: 26\n",
      "Step: 27\n",
      "Step: 28\n",
      "Step: 29\n",
      "Step: 30\n",
      "Step: 31\n",
      "Step: 32\n",
      "Step: 33\n",
      "Step: 34\n",
      "Step: 35\n",
      "Step: 36\n",
      "Step: 37\n",
      "Step: 38\n",
      "Step: 39\n",
      "Step: 40\n",
      "Step: 41\n",
      "Step: 42\n",
      "Step: 43\n",
      "Step: 44\n",
      "Step: 45\n",
      "Step: 46\n",
      "Step: 47\n",
      "Step: 48\n",
      "Step: 49\n"
     ]
    }
   ],
   "source": [
    "import collections\n",
    "import pandas as pd\n",
    "\n",
    "calibration_steps = 50\n",
    "\n",
    "data = []\n",
    "\n",
    "for _ in range(calibration_steps):\n",
    "    \"\"\"\n",
    "    Collect every step of the model the values for stocks and demands of all agent classes except users and refiners and save them in a Pandas dataframe.\n",
    "    \"\"\"\n",
    "    # Garages, check both demand and stock\n",
    "    i = 0\n",
    "\n",
    "    for garage in model.all_agents[Garage]:\n",
    "        if i == 0:\n",
    "            garage_stocks  = get_stocks(garage)\n",
    "            garage_demands = garage.demand\n",
    "            i += 1\n",
    "        else:\n",
    "            garage_stock_to_add = get_stocks(garage)\n",
    "            garage_stocks = dict(collections.Counter(garage_stocks) + collections.Counter(garage_stock_to_add))\n",
    "            garage_demands = dict(collections.Counter(garage_demands) + collections.Counter(garage.demand))\n",
    "            i += 1\n",
    "\n",
    "        garage_stocks = {k: v / i for k, v in garage_stocks.items()}\n",
    "        garage_demands = {k: v / i for k, v in garage_demands.items()}\n",
    "\n",
    "    # Parts manufacturers, check both demand and stock\n",
    "    i = 0\n",
    "\n",
    "    for PM in model.all_agents[PartsManufacturer]:\n",
    "        if i == 0:\n",
    "            PM_stocks = get_stocks(PM)\n",
    "            PM_demands = PM.demand\n",
    "            i += 1\n",
    "        else:\n",
    "            PM_stock_to_add = get_stocks(PM)\n",
    "            PM_stocks = dict(collections.Counter(PM_stocks) + collections.Counter(PM_stock_to_add))\n",
    "            PM_demands = dict(collections.Counter(PM_demands) + collections.Counter(PM.demand))\n",
    "            i += 1\n",
    "\n",
    "        PM_stocks = {k: v / i for k, v in PM_stocks.items()}\n",
    "        PM_demands = {k: v / i for k, v in PM_demands.items()}\n",
    "\n",
    "    # Car manufacturers, check both demand and stock\n",
    "    i = 0\n",
    "\n",
    "    for CM in model.all_agents[CarManufacturer]:\n",
    "        if i == 0:\n",
    "            CM_stocks = get_stocks(CM)\n",
    "            CM_demands = CM.demand\n",
    "            i += 1\n",
    "        else:\n",
    "            CM_stock_to_add = get_stocks(CM)\n",
    "            CM_stocks = dict(collections.Counter(CM_stocks) + collections.Counter(CM_stock_to_add))\n",
    "            CM_demands = dict(collections.Counter(CM_demands) + collections.Counter(CM.demand))\n",
    "            i += 1\n",
    "\n",
    "        CM_stocks = {k: v / i for k, v in CM_stocks.items()}\n",
    "        CM_demands = {k: v / i for k, v in CM_demands.items()}\n",
    "\n",
    "    # Dismantlers, check stock\n",
    "    i = 0\n",
    "\n",
    "    for dismantler in model.all_agents[Dismantler]:\n",
    "        if i == 0:\n",
    "            dismantler_stocks = get_stocks(dismantler)\n",
    "            i += 1\n",
    "        else:\n",
    "            dismantler_stock_to_add = get_stocks(dismantler)\n",
    "            dismantler_stocks = dict(collections.Counter(dismantler_stocks) + collections.Counter(dismantler_stock_to_add))\n",
    "            i += 1\n",
    "\n",
    "        garage_stocks = {k: v / i for k, v in dismantler_stocks.items()}\n",
    "\n",
    "    # Recyclers, check stock\n",
    "    i = 0\n",
    "\n",
    "    for recycler in model.all_agents[Recycler]:\n",
    "        if i == 0:\n",
    "            recycler_stocks = get_stocks(recycler)\n",
    "            i += 1\n",
    "        else:\n",
    "            recycler_stock_to_add = get_stocks(recycler)\n",
    "            recycler_stocks = dict(collections.Counter(recycler_stocks) + collections.Counter(recycler_stock_to_add))\n",
    "            i += 1\n",
    "\n",
    "        recycler_stocks = {k: v / i for k, v in recycler_stocks.items()}\n",
    "\n",
    "    # Update the dataframes\n",
    "    update_list = [garage_stocks, garage_demands, PM_stocks, PM_demands, CM_stocks, CM_demands, dismantler_stocks, recycler_stocks]\n",
    "    data.append(update_list)\n",
    "\n",
    "    # And advance the model one step again.\n",
    "    model.step()\n",
    "    print(f'Step: {_}')\n",
    "\n",
    "columns = ['Garage_stock', 'Garage_demand',\n",
    "           'PartsManufacturer_stock', 'PartsManufacturer_demand',\n",
    "           'CarManufacturer_stock', 'CarManufacturer_demand',\n",
    "           'Dismantler_stock',\n",
    "           'Recycler_stock']\n",
    "calibration_df = pd.DataFrame(data=data, columns=columns)"
   ],
   "metadata": {
    "collapsed": false,
    "pycharm": {
     "name": "#%%\n"
    }
   }
  },
  {
   "cell_type": "markdown",
   "source": [
    "See below a brief overview of the mean individual demands and stocks of the last 50 steps."
   ],
   "metadata": {
    "collapsed": false,
    "pycharm": {
     "name": "#%% md\n"
    }
   }
  },
  {
   "cell_type": "code",
   "execution_count": 6,
   "outputs": [
    {
     "name": "stdout",
     "output_type": "stream",
     "text": [
      "Every Garage should have the following values for their stock: {<Component.PARTS_FOR_RECYCLER: 5>: 10, <Component.PARTS: 4>: 20}\n",
      "Every Garage should have the following values for their demand: {<Component.PARTS: 4>: 60}\n",
      "Every PartsManufacturer should have the following values for their stock: {<Component.VIRGIN: 1>: 10, <Component.RECYCLATE_LOW: 2>: 10, <Component.RECYCLATE_HIGH: 3>: 10, <Component.PARTS: 4>: 860}\n",
      "Every PartsManufacturer should have the following values for their demand: {<Component.VIRGIN: 1>: 50, <Component.RECYCLATE_LOW: 2>: 10, <Component.PARTS: 4>: 50}\n",
      "Every CarManufacturer should have the following values for their stock: {<Component.PARTS: 4>: 10, <Component.CARS: 6>: 70}\n",
      "Every CarManufacturer should have the following values for their demand: {<Component.PARTS: 4>: 210, <Component.CARS: 6>: 60}\n",
      "Every Dismantler should have the following values for their stock: {<Component.PARTS_FOR_RECYCLER: 5>: 10, <Component.PARTS: 4>: 40}\n",
      "Every Recycler should have the following values for their stock: {<Component.RECYCLATE_LOW: 2>: 20, <Component.RECYCLATE_HIGH: 3>: 53670}\n"
     ]
    }
   ],
   "source": [
    "import math\n",
    "\n",
    "n_steps = len(calibration_df)\n",
    "\n",
    "# For every column\n",
    "for column in calibration_df:\n",
    "    # Retrieve means of the calibration steps and save in another dataframe.\n",
    "    mean_steps = {}\n",
    "\n",
    "    for step in calibration_df[column]:\n",
    "        mean_steps = dict(collections.Counter(mean_steps) + collections.Counter(step))\n",
    "\n",
    "    mean_steps = {k: v / n_steps for k, v in mean_steps.items()}\n",
    "\n",
    "    # Retrieve means per agent\n",
    "    agent_type_and_stock_or_demand = column.split(sep=\"_\")\n",
    "    agent_type = agent_type_and_stock_or_demand[0]\n",
    "    stock_or_demand = agent_type_and_stock_or_demand[1]\n",
    "\n",
    "    if agent_type == 'Garage':\n",
    "        nr_of_agents = len(model.all_agents[Garage])\n",
    "    elif agent_type == 'PartsManufacturer':\n",
    "        nr_of_agents = len(model.all_agents[PartsManufacturer])\n",
    "    elif agent_type == 'CarManufacturer':\n",
    "        nr_of_agents = len(model.all_agents[CarManufacturer])\n",
    "    elif agent_type == 'Dismantler':\n",
    "        nr_of_agents = len(model.all_agents[Dismantler])\n",
    "    elif agent_type == 'Recycler':\n",
    "        nr_of_agents = len(model.all_agents[Recycler])\n",
    "\n",
    "    mean_agent_steps = {k: v / nr_of_agents for k, v in mean_steps.items()}\n",
    "    for k, v in mean_agent_steps.items():\n",
    "        rounded_to_10 = math.ceil(v/10) * 10\n",
    "        mean_agent_steps[k] = math.ceil(rounded_to_10)\n",
    "\n",
    "    print(\"Every {agent_type} should have the following values for their {stock_or_demand}: {mean_agent_steps}\".format(agent_type=agent_type, stock_or_demand=stock_or_demand,mean_agent_steps=mean_agent_steps))"
   ],
   "metadata": {
    "collapsed": false,
    "pycharm": {
     "name": "#%%\n"
    }
   }
  },
  {
   "cell_type": "markdown",
   "source": [
    "Note that stocks of plastic resources should be floats when used as inputs. For parts manufacturers there currently is an excess amount of stock of parts due to the current non-rigid supply chain relations and should be reduced to a reasonable number. Also recycler high quality recyclate stock needs to be reduced, because the current supply chain does not use enough recyclate to deplete that stock. Furthermore, adjust the CarManufacturer default demand in such way that the number of users is divided by the car lifetime."
   ],
   "metadata": {
    "collapsed": false,
    "pycharm": {
     "name": "#%% md\n"
    }
   }
  },
  {
   "cell_type": "markdown",
   "source": [
    "A good measure to see whether the model runs correctly or that parameters need to be changed is the metric specified below. There should not be too many cars in the garage, which indicates a parts shortage or too many users demanding a car, which indicates a car shortage (and possibly indirect a parts shortage)."
   ],
   "metadata": {
    "collapsed": false,
    "pycharm": {
     "name": "#%% md\n"
    }
   }
  },
  {
   "cell_type": "code",
   "execution_count": 8,
   "outputs": [
    {
     "name": "stdout",
     "output_type": "stream",
     "text": [
      "There are 954 cars in use.\n",
      "There is demand for 46 cars.\n",
      "There are 0 cars in the garage.\n"
     ]
    }
   ],
   "source": [
    "car_possession = 0\n",
    "car_demand = 0\n",
    "cars_in_garage = 0\n",
    "\n",
    "for user in model.all_agents[User]:\n",
    "    if user.stock[Component.CARS]:\n",
    "        car_possession += 1\n",
    "    elif user.demand[Component.CARS] == 1:\n",
    "        car_demand += 1\n",
    "    else:\n",
    "        cars_in_garage += 1\n",
    "\n",
    "print(f'There are {car_possession} cars in use.')\n",
    "print(f'There is demand for {car_demand} cars.')\n",
    "print(f'There are {cars_in_garage} cars in the garage.')"
   ],
   "metadata": {
    "collapsed": false,
    "pycharm": {
     "name": "#%%\n"
    }
   }
  }
 ],
 "metadata": {
  "kernelspec": {
   "display_name": "Python 3",
   "language": "python",
   "name": "python3"
  },
  "language_info": {
   "codemirror_mode": {
    "name": "ipython",
    "version": 2
   },
   "file_extension": ".py",
   "mimetype": "text/x-python",
   "name": "python",
   "nbconvert_exporter": "python",
   "pygments_lexer": "ipython2",
   "version": "2.7.6"
  }
 },
 "nbformat": 4,
 "nbformat_minor": 0
}