{
 "cells": [
  {
   "cell_type": "code",
   "execution_count": 1,
   "metadata": {
    "collapsed": true
   },
   "outputs": [],
   "source": [
    "from model.cepai_model import *"
   ]
  },
  {
   "cell_type": "code",
   "execution_count": 2,
   "outputs": [
    {
     "name": "stdout",
     "output_type": "stream",
     "text": [
      "Simulation starting...\n"
     ]
    }
   ],
   "source": [
    "if __name__ == \"__main__\":\n",
    "    model = CEPAIModel()\n",
    "    #model.run(steps=5)"
   ],
   "metadata": {
    "collapsed": false,
    "pycharm": {
     "name": "#%%\n"
    }
   }
  },
  {
   "cell_type": "code",
   "execution_count": 3,
   "outputs": [],
   "source": [
    "PM_1 = model.all_agents[PartsManufacturer][0]\n",
    "PM_2 = model.all_agents[PartsManufacturer][1]\n",
    "PM_3 = model.all_agents[PartsManufacturer][2]"
   ],
   "metadata": {
    "collapsed": false,
    "pycharm": {
     "name": "#%%\n"
    }
   }
  },
  {
   "cell_type": "code",
   "execution_count": 4,
   "outputs": [],
   "source": [
    "CM_1 = model.all_agents[CarManufacturer][0]\n",
    "CM_2 = model.all_agents[CarManufacturer][1]\n",
    "CM_3 = model.all_agents[CarManufacturer][2]\n",
    "CM_4 = model.all_agents[CarManufacturer][3]"
   ],
   "metadata": {
    "collapsed": false,
    "pycharm": {
     "name": "#%%\n"
    }
   }
  },
  {
   "cell_type": "code",
   "execution_count": 5,
   "outputs": [],
   "source": [
    "list_of_PMs_and_CMs = [PM_1, PM_2, PM_3, CM_1, CM_2, CM_3, CM_4]"
   ],
   "metadata": {
    "collapsed": false,
    "pycharm": {
     "name": "#%%\n"
    }
   }
  },
  {
   "cell_type": "code",
   "execution_count": 6,
   "outputs": [
    {
     "name": "stdout",
     "output_type": "stream",
     "text": [
      "<model.agents.PartsManufacturer object at 0x000001D6E0712110> data:\n",
      "Sold volume: {'last': 0, 'second_last': 0}\n",
      "Demand: {<Component.VIRGIN: 1>: 21.70814622678669, <Component.RECYCLATE_LOW: 2>: 7.820339285981408, <Component.RECYCLATE_HIGH: 3>: 7.471514487231903, <Component.PARTS: 4>: 37}\n",
      "\n",
      "<model.agents.PartsManufacturer object at 0x000001D6E0711DB0> data:\n",
      "Sold volume: {'last': 0, 'second_last': 0}\n",
      "Demand: {<Component.VIRGIN: 1>: 23.416480523007888, <Component.RECYCLATE_LOW: 2>: 10.005781602027987, <Component.RECYCLATE_HIGH: 3>: 9.577737874964127, <Component.PARTS: 4>: 43}\n",
      "\n",
      "<model.agents.PartsManufacturer object at 0x000001D6E070B100> data:\n",
      "Sold volume: {'last': 0, 'second_last': 0}\n",
      "Demand: {<Component.VIRGIN: 1>: 29.690151433559105, <Component.RECYCLATE_LOW: 2>: 12.679894507617107, <Component.RECYCLATE_HIGH: 3>: 10.629954058823785, <Component.PARTS: 4>: 53}\n",
      "\n",
      "<model.agents.CarManufacturer object at 0x000001D6E06C9F90> data:\n",
      "Sold volume: {'last': 0, 'second_last': 0}\n",
      "Demand: {<Component.VIRGIN: 1>: 0.0, <Component.RECYCLATE_LOW: 2>: 0.0, <Component.RECYCLATE_HIGH: 3>: 0.0, <Component.PARTS: 4>: 104, <Component.CARS: 6>: 9}\n",
      "\n",
      "<model.agents.CarManufacturer object at 0x000001D6E06C9F60> data:\n",
      "Sold volume: {'last': 0, 'second_last': 0}\n",
      "Demand: {<Component.VIRGIN: 1>: 0.0, <Component.RECYCLATE_LOW: 2>: 0.0, <Component.RECYCLATE_HIGH: 3>: 0.0, <Component.PARTS: 4>: 102, <Component.CARS: 6>: 9}\n",
      "\n",
      "<model.agents.CarManufacturer object at 0x000001D6E06C92A0> data:\n",
      "Sold volume: {'last': 1, 'second_last': 0}\n",
      "Demand: {<Component.VIRGIN: 1>: 0.0, <Component.RECYCLATE_LOW: 2>: 0.0, <Component.RECYCLATE_HIGH: 3>: 0.0, <Component.PARTS: 4>: 96, <Component.CARS: 6>: 8}\n",
      "\n",
      "<model.agents.CarManufacturer object at 0x000001D6E06F7280> data:\n",
      "Sold volume: {'last': 0, 'second_last': 0}\n",
      "Demand: {<Component.VIRGIN: 1>: 0.0, <Component.RECYCLATE_LOW: 2>: 0.0, <Component.RECYCLATE_HIGH: 3>: 0.0, <Component.PARTS: 4>: 100, <Component.CARS: 6>: 11}\n",
      "\n"
     ]
    }
   ],
   "source": [
    "model.step()\n",
    "for manufacturer in list_of_PMs_and_CMs:\n",
    "    print(\"{manu} data:\".format(manu=manufacturer))\n",
    "    print(\"Sold volume: {sold_vol}\".format(sold_vol=manufacturer.sold_volume))\n",
    "    print(\"Demand: {demand}\\n\".format(demand=manufacturer.demand))"
   ],
   "metadata": {
    "collapsed": false,
    "pycharm": {
     "name": "#%%\n"
    }
   }
  },
  {
   "cell_type": "code",
   "execution_count": 10,
   "outputs": [
    {
     "ename": "AttributeError",
     "evalue": "'PartState' object has no attribute 'plastic_ratio'",
     "output_type": "error",
     "traceback": [
      "\u001B[1;31m---------------------------------------------------------------------------\u001B[0m",
      "\u001B[1;31mAttributeError\u001B[0m                            Traceback (most recent call last)",
      "\u001B[1;32m~\\AppData\\Local\\Temp/ipykernel_19392/3314399765.py\u001B[0m in \u001B[0;36m<module>\u001B[1;34m\u001B[0m\n\u001B[1;32m----> 1\u001B[1;33m \u001B[0mmodel\u001B[0m\u001B[1;33m.\u001B[0m\u001B[0mstep\u001B[0m\u001B[1;33m(\u001B[0m\u001B[1;33m)\u001B[0m\u001B[1;33m\u001B[0m\u001B[1;33m\u001B[0m\u001B[0m\n\u001B[0m",
      "\u001B[1;32m~\\PycharmProjects\\QONNECT\\model\\cepai_model.py\u001B[0m in \u001B[0;36mstep\u001B[1;34m(self)\u001B[0m\n\u001B[0;32m    116\u001B[0m         \u001B[0mExecutes\u001B[0m \u001B[0ma\u001B[0m \u001B[0mmodel\u001B[0m \u001B[0mstep\u001B[0m\u001B[1;33m.\u001B[0m\u001B[1;33m\u001B[0m\u001B[1;33m\u001B[0m\u001B[0m\n\u001B[0;32m    117\u001B[0m         \"\"\"\n\u001B[1;32m--> 118\u001B[1;33m         \u001B[0mself\u001B[0m\u001B[1;33m.\u001B[0m\u001B[0mschedule\u001B[0m\u001B[1;33m.\u001B[0m\u001B[0mstep\u001B[0m\u001B[1;33m(\u001B[0m\u001B[1;33m)\u001B[0m\u001B[1;33m\u001B[0m\u001B[1;33m\u001B[0m\u001B[0m\n\u001B[0m",
      "\u001B[1;32mc:\\users\\rpvdp\\pycharmprojects\\qonnect\\venv\\lib\\site-packages\\mesa\\time.py\u001B[0m in \u001B[0;36mstep\u001B[1;34m(self)\u001B[0m\n\u001B[0;32m    195\u001B[0m         \u001B[1;32mfor\u001B[0m \u001B[0mstage\u001B[0m \u001B[1;32min\u001B[0m \u001B[0mself\u001B[0m\u001B[1;33m.\u001B[0m\u001B[0mstage_list\u001B[0m\u001B[1;33m:\u001B[0m\u001B[1;33m\u001B[0m\u001B[1;33m\u001B[0m\u001B[0m\n\u001B[0;32m    196\u001B[0m             \u001B[1;32mfor\u001B[0m \u001B[0magent_key\u001B[0m \u001B[1;32min\u001B[0m \u001B[0magent_keys\u001B[0m\u001B[1;33m:\u001B[0m\u001B[1;33m\u001B[0m\u001B[1;33m\u001B[0m\u001B[0m\n\u001B[1;32m--> 197\u001B[1;33m                 \u001B[0mgetattr\u001B[0m\u001B[1;33m(\u001B[0m\u001B[0mself\u001B[0m\u001B[1;33m.\u001B[0m\u001B[0m_agents\u001B[0m\u001B[1;33m[\u001B[0m\u001B[0magent_key\u001B[0m\u001B[1;33m]\u001B[0m\u001B[1;33m,\u001B[0m \u001B[0mstage\u001B[0m\u001B[1;33m)\u001B[0m\u001B[1;33m(\u001B[0m\u001B[1;33m)\u001B[0m  \u001B[1;31m# Run stage\u001B[0m\u001B[1;33m\u001B[0m\u001B[1;33m\u001B[0m\u001B[0m\n\u001B[0m\u001B[0;32m    198\u001B[0m             \u001B[1;32mif\u001B[0m \u001B[0mself\u001B[0m\u001B[1;33m.\u001B[0m\u001B[0mshuffle_between_stages\u001B[0m\u001B[1;33m:\u001B[0m\u001B[1;33m\u001B[0m\u001B[1;33m\u001B[0m\u001B[0m\n\u001B[0;32m    199\u001B[0m                 \u001B[0mself\u001B[0m\u001B[1;33m.\u001B[0m\u001B[0mmodel\u001B[0m\u001B[1;33m.\u001B[0m\u001B[0mrandom\u001B[0m\u001B[1;33m.\u001B[0m\u001B[0mshuffle\u001B[0m\u001B[1;33m(\u001B[0m\u001B[0magent_keys\u001B[0m\u001B[1;33m)\u001B[0m\u001B[1;33m\u001B[0m\u001B[1;33m\u001B[0m\u001B[0m\n",
      "\u001B[1;32m~\\PycharmProjects\\QONNECT\\model\\agents.py\u001B[0m in \u001B[0;36mprocess_components\u001B[1;34m(self)\u001B[0m\n\u001B[0;32m    483\u001B[0m             \u001B[1;32mwhile\u001B[0m \u001B[0mlen\u001B[0m\u001B[1;33m(\u001B[0m\u001B[0mcar\u001B[0m\u001B[1;33m.\u001B[0m\u001B[0mparts\u001B[0m\u001B[1;33m)\u001B[0m \u001B[1;33m>\u001B[0m \u001B[1;36m1\u001B[0m\u001B[1;33m:\u001B[0m\u001B[1;33m\u001B[0m\u001B[1;33m\u001B[0m\u001B[0m\n\u001B[0;32m    484\u001B[0m                 \u001B[0mpart\u001B[0m \u001B[1;33m=\u001B[0m \u001B[0mcar\u001B[0m\u001B[1;33m.\u001B[0m\u001B[0mparts\u001B[0m\u001B[1;33m[\u001B[0m\u001B[1;36m0\u001B[0m\u001B[1;33m]\u001B[0m\u001B[1;33m\u001B[0m\u001B[1;33m\u001B[0m\u001B[0m\n\u001B[1;32m--> 485\u001B[1;33m                 \u001B[0mplastic_ratio\u001B[0m \u001B[1;33m=\u001B[0m \u001B[0mPart\u001B[0m\u001B[1;33m.\u001B[0m\u001B[0mextract_plastic\u001B[0m\u001B[1;33m(\u001B[0m\u001B[0mpart\u001B[0m\u001B[1;33m)\u001B[0m\u001B[1;33m\u001B[0m\u001B[1;33m\u001B[0m\u001B[0m\n\u001B[0m\u001B[0;32m    486\u001B[0m                 \u001B[0mself\u001B[0m\u001B[1;33m.\u001B[0m\u001B[0mstock\u001B[0m\u001B[1;33m[\u001B[0m\u001B[0mComponent\u001B[0m\u001B[1;33m.\u001B[0m\u001B[0mRECYCLATE_HIGH\u001B[0m\u001B[1;33m]\u001B[0m \u001B[1;33m+=\u001B[0m \u001B[0mplastic_ratio\u001B[0m\u001B[1;33m[\u001B[0m\u001B[0mComponent\u001B[0m\u001B[1;33m.\u001B[0m\u001B[0mVIRGIN\u001B[0m\u001B[1;33m]\u001B[0m\u001B[1;33m\u001B[0m\u001B[1;33m\u001B[0m\u001B[0m\n\u001B[0;32m    487\u001B[0m                 \u001B[1;32mif\u001B[0m \u001B[0mrandom\u001B[0m\u001B[1;33m.\u001B[0m\u001B[0muniform\u001B[0m\u001B[1;33m(\u001B[0m\u001B[1;36m0\u001B[0m\u001B[1;33m,\u001B[0m \u001B[1;36m1\u001B[0m\u001B[1;33m)\u001B[0m \u001B[1;33m<\u001B[0m \u001B[0mself\u001B[0m\u001B[1;33m.\u001B[0m\u001B[0mefficiency\u001B[0m\u001B[1;33m:\u001B[0m\u001B[1;33m\u001B[0m\u001B[1;33m\u001B[0m\u001B[0m\n",
      "\u001B[1;32m~\\PycharmProjects\\QONNECT\\model\\bigger_components.py\u001B[0m in \u001B[0;36mextract_plastic\u001B[1;34m(self)\u001B[0m\n\u001B[0;32m     49\u001B[0m             \u001B[0mplastic_ratio\u001B[0m\u001B[1;33m:\u001B[0m \u001B[0mdictionary\u001B[0m \u001B[1;32mwith\u001B[0m \u001B[1;33m{\u001B[0m\u001B[0mComponent\u001B[0m\u001B[1;33m:\u001B[0m \u001B[0mfloat\u001B[0m\u001B[1;33m}\u001B[0m\u001B[1;33m\u001B[0m\u001B[1;33m\u001B[0m\u001B[0m\n\u001B[0;32m     50\u001B[0m         \"\"\"\n\u001B[1;32m---> 51\u001B[1;33m         \u001B[0mplastic_ratio\u001B[0m \u001B[1;33m=\u001B[0m \u001B[0mself\u001B[0m\u001B[1;33m.\u001B[0m\u001B[0mplastic_ratio\u001B[0m\u001B[1;33m.\u001B[0m\u001B[0mcopy\u001B[0m\u001B[1;33m(\u001B[0m\u001B[1;33m)\u001B[0m\u001B[1;33m\u001B[0m\u001B[1;33m\u001B[0m\u001B[0m\n\u001B[0m\u001B[0;32m     52\u001B[0m \u001B[1;33m\u001B[0m\u001B[0m\n\u001B[0;32m     53\u001B[0m         \u001B[0mself\u001B[0m\u001B[1;33m.\u001B[0m\u001B[0mplastic_ratio\u001B[0m \u001B[1;33m=\u001B[0m \u001B[1;33m{\u001B[0m\u001B[0mx\u001B[0m\u001B[1;33m:\u001B[0m \u001B[1;36m0.0\u001B[0m \u001B[1;32mfor\u001B[0m \u001B[0mx\u001B[0m \u001B[1;32min\u001B[0m \u001B[0mself\u001B[0m\u001B[1;33m.\u001B[0m\u001B[0mplastic_ratio\u001B[0m\u001B[1;33m}\u001B[0m\u001B[1;33m\u001B[0m\u001B[1;33m\u001B[0m\u001B[0m\n",
      "\u001B[1;31mAttributeError\u001B[0m: 'PartState' object has no attribute 'plastic_ratio'"
     ]
    }
   ],
   "source": [
    "model.step()"
   ],
   "metadata": {
    "collapsed": false,
    "pycharm": {
     "name": "#%%\n"
    }
   }
  },
  {
   "cell_type": "code",
   "execution_count": 11,
   "outputs": [
    {
     "name": "stdout",
     "output_type": "stream",
     "text": [
      "0\n",
      "CarState.FUNCTIONING\n",
      "1\n",
      "[<CarState.FUNCTIONING: 1>]\n",
      "1\n",
      "[<CarState.FUNCTIONING: 1>]\n",
      "2\n",
      "CarState.FUNCTIONING\n",
      "2\n",
      "[<CarState.FUNCTIONING: 1>]\n",
      "9\n",
      "[<CarState.FUNCTIONING: 1>]\n",
      "4\n",
      "[<CarState.FUNCTIONING: 1>]\n",
      "2\n",
      "[<CarState.FUNCTIONING: 1>]\n",
      "6\n",
      "[<CarState.FUNCTIONING: 1>]\n",
      "1\n",
      "[<CarState.FUNCTIONING: 1>]\n"
     ]
    }
   ],
   "source": [
    "for user in model.all_agents[User]:\n",
    "    if user.stock[Component.CARS]:\n",
    "        car = user.stock[Component.CARS][0]\n",
    "\n",
    "    if car:\n",
    "        print(car.lifetime_current)\n",
    "        print(car.state)\n",
    "    else:\n",
    "        print(\"User currently has no car\")"
   ],
   "metadata": {
    "collapsed": false,
    "pycharm": {
     "name": "#%%\n"
    }
   }
  },
  {
   "cell_type": "code",
   "execution_count": null,
   "outputs": [],
   "source": [],
   "metadata": {
    "collapsed": false,
    "pycharm": {
     "name": "#%%\n"
    }
   }
  }
 ],
 "metadata": {
  "kernelspec": {
   "display_name": "Python 3",
   "language": "python",
   "name": "python3"
  },
  "language_info": {
   "codemirror_mode": {
    "name": "ipython",
    "version": 2
   },
   "file_extension": ".py",
   "mimetype": "text/x-python",
   "name": "python",
   "nbconvert_exporter": "python",
   "pygments_lexer": "ipython2",
   "version": "2.7.6"
  }
 },
 "nbformat": 4,
 "nbformat_minor": 0
}