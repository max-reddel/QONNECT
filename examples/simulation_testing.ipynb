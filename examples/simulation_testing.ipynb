{
 "cells": [
  {
   "cell_type": "code",
   "execution_count": 1,
   "metadata": {
    "collapsed": true
   },
   "outputs": [],
   "source": [
    "from model.cepai_model import *"
   ]
  },
  {
   "cell_type": "code",
   "execution_count": 2,
   "outputs": [
    {
     "name": "stdout",
     "output_type": "stream",
     "text": [
      "Simulation starting...\n"
     ]
    }
   ],
   "source": [
    "if __name__ == \"__main__\":\n",
    "    model = CEPAIModel(agent_counts={User: 10})\n",
    "    #model.run(steps=5)"
   ],
   "metadata": {
    "collapsed": false,
    "pycharm": {
     "name": "#%%\n"
    }
   }
  },
  {
   "cell_type": "code",
   "execution_count": 3,
   "outputs": [
    {
     "data": {
      "text/plain": "{model.agents.User: [<model.agents.User at 0x1ab6a606370>,\n  <model.agents.User at 0x1ab6a6063d0>,\n  <model.agents.User at 0x1ab6a606460>,\n  <model.agents.User at 0x1ab6a6064c0>,\n  <model.agents.User at 0x1ab6a6062b0>,\n  <model.agents.User at 0x1ab6a606580>,\n  <model.agents.User at 0x1ab6a6065b0>,\n  <model.agents.User at 0x1ab6a606610>,\n  <model.agents.User at 0x1ab6a606670>,\n  <model.agents.User at 0x1ab6a6066d0>],\n model.agents.CarManufacturer: [<model.agents.CarManufacturer at 0x1ab6a6065e0>,\n  <model.agents.CarManufacturer at 0x1ab6a6064f0>,\n  <model.agents.CarManufacturer at 0x1ab6a669490>,\n  <model.agents.CarManufacturer at 0x1ab6a6694c0>]}"
     },
     "execution_count": 3,
     "metadata": {},
     "output_type": "execute_result"
    }
   ],
   "source": [
    "model.all_agents"
   ],
   "metadata": {
    "collapsed": false,
    "pycharm": {
     "name": "#%%\n"
    }
   }
  },
  {
   "cell_type": "code",
   "execution_count": 4,
   "outputs": [
    {
     "name": "stdout",
     "output_type": "stream",
     "text": [
      "10\n"
     ]
    }
   ],
   "source": [
    "print(len(model.all_agents[User]))"
   ],
   "metadata": {
    "collapsed": false,
    "pycharm": {
     "name": "#%%\n"
    }
   }
  },
  {
   "cell_type": "code",
   "execution_count": 5,
   "outputs": [],
   "source": [
    "first_user = model.all_agents[User][0]"
   ],
   "metadata": {
    "collapsed": false,
    "pycharm": {
     "name": "#%%\n"
    }
   }
  },
  {
   "cell_type": "code",
   "execution_count": 9,
   "outputs": [],
   "source": [
    "car_first_user = first_user.stock[Component.CARS][0]"
   ],
   "metadata": {
    "collapsed": false,
    "pycharm": {
     "name": "#%%\n"
    }
   }
  },
  {
   "cell_type": "code",
   "execution_count": 11,
   "outputs": [
    {
     "data": {
      "text/plain": "<Brand.MERCEDES: 3>"
     },
     "execution_count": 11,
     "metadata": {},
     "output_type": "execute_result"
    }
   ],
   "source": [
    "car_first_user.brand"
   ],
   "metadata": {
    "collapsed": false,
    "pycharm": {
     "name": "#%%\n"
    }
   }
  },
  {
   "cell_type": "code",
   "execution_count": 12,
   "outputs": [
    {
     "data": {
      "text/plain": "[<CarState.FUNCTIONING: 1>]"
     },
     "execution_count": 12,
     "metadata": {},
     "output_type": "execute_result"
    }
   ],
   "source": [
    "car_first_user.state"
   ],
   "metadata": {
    "collapsed": false,
    "pycharm": {
     "name": "#%%\n"
    }
   }
  },
  {
   "cell_type": "code",
   "execution_count": 13,
   "outputs": [
    {
     "data": {
      "text/plain": "1"
     },
     "execution_count": 13,
     "metadata": {},
     "output_type": "execute_result"
    }
   ],
   "source": [
    "car_first_user.lifetime_current"
   ],
   "metadata": {
    "collapsed": false,
    "pycharm": {
     "name": "#%%\n"
    }
   }
  },
  {
   "cell_type": "code",
   "execution_count": 19,
   "outputs": [
    {
     "name": "stdout",
     "output_type": "stream",
     "text": [
      "1\n",
      "[<CarState.FUNCTIONING: 1>]\n",
      "User number: 0\n",
      "2\n",
      "[<CarState.FUNCTIONING: 1>]\n",
      "User number: 1\n",
      "10\n",
      "CarState.FUNCTIONING\n",
      "User number: 2\n",
      "2\n",
      "[<CarState.FUNCTIONING: 1>]\n",
      "User number: 3\n",
      "2\n",
      "[<CarState.FUNCTIONING: 1>]\n",
      "User number: 4\n",
      "8\n",
      "[<CarState.FUNCTIONING: 1>]\n",
      "User number: 5\n",
      "5\n",
      "[<CarState.FUNCTIONING: 1>]\n",
      "User number: 6\n",
      "User has no car\n",
      "User number: 7\n",
      "User has no car\n",
      "User number: 8\n",
      "10\n",
      "CarState.FUNCTIONING\n",
      "User number: 9\n"
     ]
    }
   ],
   "source": [
    "user_nr = 0\n",
    "for user in model.all_agents[User]:\n",
    "    if user.stock[Component.CARS]:\n",
    "        car_user = user.stock[Component.CARS][0]\n",
    "        print(car_user.lifetime_current)\n",
    "        print(car_user.state)\n",
    "        print(\"User number:\", user_nr)\n",
    "    else:\n",
    "        print(\"User has no car\")\n",
    "        print(\"User number:\", user_nr)\n",
    "    user_nr +=1"
   ],
   "metadata": {
    "collapsed": false,
    "pycharm": {
     "name": "#%%\n"
    }
   }
  }
 ],
 "metadata": {
  "kernelspec": {
   "display_name": "Python 3",
   "language": "python",
   "name": "python3"
  },
  "language_info": {
   "codemirror_mode": {
    "name": "ipython",
    "version": 2
   },
   "file_extension": ".py",
   "mimetype": "text/x-python",
   "name": "python",
   "nbconvert_exporter": "python",
   "pygments_lexer": "ipython2",
   "version": "2.7.6"
  }
 },
 "nbformat": 4,
 "nbformat_minor": 0
}