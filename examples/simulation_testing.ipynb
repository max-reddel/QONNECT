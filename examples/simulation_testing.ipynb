{
 "cells": [
  {
   "cell_type": "code",
   "execution_count": 1,
   "metadata": {
    "collapsed": true
   },
   "outputs": [],
   "source": [
    "from model.cepai_model import *"
   ]
  },
  {
   "cell_type": "code",
   "execution_count": 2,
   "outputs": [
    {
     "name": "stdout",
     "output_type": "stream",
     "text": [
      "Simulation starting...\n"
     ]
    }
   ],
   "source": [
    "if __name__ == \"__main__\":\n",
    "    model = CEPAIModel()\n",
    "    #model.run(steps=5)"
   ],
   "metadata": {
    "collapsed": false,
    "pycharm": {
     "name": "#%%\n"
    }
   }
  },
  {
   "cell_type": "code",
   "execution_count": 3,
   "outputs": [
    {
     "data": {
      "text/plain": "{model.agents.PartsManufacturer: [<model.agents.PartsManufacturer at 0x16d4e017d00>,\n  <model.agents.PartsManufacturer at 0x16d4e015c90>,\n  <model.agents.PartsManufacturer at 0x16d4e04c190>],\n model.agents.Refiner: [<model.agents.Refiner at 0x16d4e0e9ed0>,\n  <model.agents.Refiner at 0x16d4e0e9f00>,\n  <model.agents.Refiner at 0x16d4e0e9f30>],\n model.agents.Recycler: [<model.agents.Recycler at 0x16d4e0e9f60>],\n model.agents.CarManufacturer: [<model.agents.CarManufacturer at 0x16d4e0e9fc0>,\n  <model.agents.CarManufacturer at 0x16d4e0e9f90>,\n  <model.agents.CarManufacturer at 0x16d4e0e80d0>,\n  <model.agents.CarManufacturer at 0x16d4e0734f0>],\n model.agents.User: [<model.agents.User at 0x16d4e021b70>,\n  <model.agents.User at 0x16d4e050160>,\n  <model.agents.User at 0x16d4e052ec0>,\n  <model.agents.User at 0x16d4e050040>,\n  <model.agents.User at 0x16d4e052f20>,\n  <model.agents.User at 0x16d4e050130>,\n  <model.agents.User at 0x16d4e0500d0>,\n  <model.agents.User at 0x16d4e050070>,\n  <model.agents.User at 0x16d4e052fb0>,\n  <model.agents.User at 0x16d4e053010>],\n model.agents.Garage: [<model.agents.Garage at 0x16d4e053040>,\n  <model.agents.Garage at 0x16d4e053f10>],\n model.agents.Dismantler: [<model.agents.Dismantler at 0x16d4e053cd0>]}"
     },
     "execution_count": 3,
     "metadata": {},
     "output_type": "execute_result"
    }
   ],
   "source": [
    "model.all_agents"
   ],
   "metadata": {
    "collapsed": false,
    "pycharm": {
     "name": "#%%\n"
    }
   }
  },
  {
   "cell_type": "code",
   "execution_count": 4,
   "outputs": [
    {
     "name": "stdout",
     "output_type": "stream",
     "text": [
      "10\n"
     ]
    }
   ],
   "source": [
    "print(len(model.all_agents[User]))"
   ],
   "metadata": {
    "collapsed": false,
    "pycharm": {
     "name": "#%%\n"
    }
   }
  },
  {
   "cell_type": "code",
   "execution_count": 5,
   "outputs": [],
   "source": [
    "first_user = model.all_agents[User][0]"
   ],
   "metadata": {
    "collapsed": false,
    "pycharm": {
     "name": "#%%\n"
    }
   }
  },
  {
   "cell_type": "code",
   "execution_count": 9,
   "outputs": [],
   "source": [
    "car_first_user = first_user.stock[Component.CARS][0]"
   ],
   "metadata": {
    "collapsed": false,
    "pycharm": {
     "name": "#%%\n"
    }
   }
  },
  {
   "cell_type": "code",
   "execution_count": 11,
   "outputs": [
    {
     "data": {
      "text/plain": "<Brand.MERCEDES: 3>"
     },
     "execution_count": 11,
     "metadata": {},
     "output_type": "execute_result"
    }
   ],
   "source": [
    "car_first_user.brand"
   ],
   "metadata": {
    "collapsed": false,
    "pycharm": {
     "name": "#%%\n"
    }
   }
  },
  {
   "cell_type": "code",
   "execution_count": 12,
   "outputs": [
    {
     "data": {
      "text/plain": "[<CarState.FUNCTIONING: 1>]"
     },
     "execution_count": 12,
     "metadata": {},
     "output_type": "execute_result"
    }
   ],
   "source": [
    "car_first_user.state"
   ],
   "metadata": {
    "collapsed": false,
    "pycharm": {
     "name": "#%%\n"
    }
   }
  },
  {
   "cell_type": "code",
   "execution_count": 13,
   "outputs": [
    {
     "data": {
      "text/plain": "1"
     },
     "execution_count": 13,
     "metadata": {},
     "output_type": "execute_result"
    }
   ],
   "source": [
    "car_first_user.lifetime_current"
   ],
   "metadata": {
    "collapsed": false,
    "pycharm": {
     "name": "#%%\n"
    }
   }
  },
  {
   "cell_type": "code",
   "execution_count": 19,
   "outputs": [
    {
     "name": "stdout",
     "output_type": "stream",
     "text": [
      "1\n",
      "[<CarState.FUNCTIONING: 1>]\n",
      "User number: 0\n",
      "2\n",
      "[<CarState.FUNCTIONING: 1>]\n",
      "User number: 1\n",
      "10\n",
      "CarState.FUNCTIONING\n",
      "User number: 2\n",
      "2\n",
      "[<CarState.FUNCTIONING: 1>]\n",
      "User number: 3\n",
      "2\n",
      "[<CarState.FUNCTIONING: 1>]\n",
      "User number: 4\n",
      "8\n",
      "[<CarState.FUNCTIONING: 1>]\n",
      "User number: 5\n",
      "5\n",
      "[<CarState.FUNCTIONING: 1>]\n",
      "User number: 6\n",
      "User has no car\n",
      "User number: 7\n",
      "User has no car\n",
      "User number: 8\n",
      "10\n",
      "CarState.FUNCTIONING\n",
      "User number: 9\n"
     ]
    }
   ],
   "source": [
    "user_nr = 0\n",
    "for user in model.all_agents[User]:\n",
    "    if user.stock[Component.CARS]:\n",
    "        car_user = user.stock[Component.CARS][0]\n",
    "        print(car_user.lifetime_current)\n",
    "        print(car_user.state)\n",
    "        print(\"User number:\", user_nr)\n",
    "    else:\n",
    "        print(\"User has no car\")\n",
    "        print(\"User number:\", user_nr)\n",
    "    user_nr +=1"
   ],
   "metadata": {
    "collapsed": false,
    "pycharm": {
     "name": "#%%\n"
    }
   }
  }
 ],
 "metadata": {
  "kernelspec": {
   "display_name": "Python 3",
   "language": "python",
   "name": "python3"
  },
  "language_info": {
   "codemirror_mode": {
    "name": "ipython",
    "version": 2
   },
   "file_extension": ".py",
   "mimetype": "text/x-python",
   "name": "python",
   "nbconvert_exporter": "python",
   "pygments_lexer": "ipython2",
   "version": "2.7.6"
  }
 },
 "nbformat": 4,
 "nbformat_minor": 0
}