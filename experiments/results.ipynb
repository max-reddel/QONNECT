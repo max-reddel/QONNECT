{
 "cells": [
  {
   "cell_type": "markdown",
   "source": [
    "Testing the experiment"
   ],
   "metadata": {
    "collapsed": false,
    "pycharm": {
     "name": "#%% md\n"
    }
   }
  },
  {
   "cell_type": "code",
   "execution_count": 1,
   "metadata": {
    "collapsed": true
   },
   "outputs": [],
   "source": [
    "from experiments.experiment import *\n",
    "\n",
    "results = Experiment.load_results()"
   ]
  },
  {
   "cell_type": "code",
   "execution_count": 3,
   "outputs": [
    {
     "name": "stdout",
     "output_type": "stream",
     "text": [
      "   Unnamed: 0  amount virgin  amount recyclate high  amount recyclate low  \\\n",
      "0           0    1779.711679             725.935917            726.352403   \n",
      "1           0    1775.049353             726.389207            726.561439   \n",
      "\n",
      "   amount reused parts  amount standard parts  amount leakage  price virgin  \\\n",
      "0                 2666                    566       13.811654      2.535715   \n",
      "1                 2675                    553       13.974876      2.569072   \n",
      "\n",
      "   price recyclate  \n",
      "0         2.493949  \n",
      "1         2.337574  \n"
     ]
    }
   ],
   "source": [
    "for k,v in results.items():\n",
    "    print(v)\n",
    "    break\n"
   ],
   "metadata": {
    "collapsed": false,
    "pycharm": {
     "name": "#%%\n"
    }
   }
  },
  {
   "cell_type": "code",
   "execution_count": null,
   "outputs": [],
   "source": [],
   "metadata": {
    "collapsed": false,
    "pycharm": {
     "name": "#%%\n"
    }
   }
  }
 ],
 "metadata": {
  "kernelspec": {
   "name": "python3",
   "language": "python",
   "display_name": "Python 3 (ipykernel)"
  },
  "language_info": {
   "codemirror_mode": {
    "name": "ipython",
    "version": 2
   },
   "file_extension": ".py",
   "mimetype": "text/x-python",
   "name": "python",
   "nbconvert_exporter": "python",
   "pygments_lexer": "ipython2",
   "version": "2.7.6"
  }
 },
 "nbformat": 4,
 "nbformat_minor": 0
}