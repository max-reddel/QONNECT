{
 "cells": [
  {
   "cell_type": "code",
   "execution_count": 9,
   "metadata": {
    "collapsed": true
   },
   "outputs": [],
   "source": [
    "\n",
    "import pandas as pd\n",
    "from model.enumerations import *\n",
    "import numpy as np"
   ]
  },
  {
   "cell_type": "code",
   "execution_count": 10,
   "outputs": [
    {
     "data": {
      "text/plain": "                          S1  S2  S3\nComponent.VIRGIN          20  33  71\nComponent.RECYCLATE_LOW   66   9  38\nComponent.RECYCLATE_HIGH  75  34  62\nComponent.PARTS           83  44  32\nComponent.CARS            20  19   5",
      "text/html": "<div>\n<style scoped>\n    .dataframe tbody tr th:only-of-type {\n        vertical-align: middle;\n    }\n\n    .dataframe tbody tr th {\n        vertical-align: top;\n    }\n\n    .dataframe thead th {\n        text-align: right;\n    }\n</style>\n<table border=\"1\" class=\"dataframe\">\n  <thead>\n    <tr style=\"text-align: right;\">\n      <th></th>\n      <th>S1</th>\n      <th>S2</th>\n      <th>S3</th>\n    </tr>\n  </thead>\n  <tbody>\n    <tr>\n      <th>Component.VIRGIN</th>\n      <td>20</td>\n      <td>33</td>\n      <td>71</td>\n    </tr>\n    <tr>\n      <th>Component.RECYCLATE_LOW</th>\n      <td>66</td>\n      <td>9</td>\n      <td>38</td>\n    </tr>\n    <tr>\n      <th>Component.RECYCLATE_HIGH</th>\n      <td>75</td>\n      <td>34</td>\n      <td>62</td>\n    </tr>\n    <tr>\n      <th>Component.PARTS</th>\n      <td>83</td>\n      <td>44</td>\n      <td>32</td>\n    </tr>\n    <tr>\n      <th>Component.CARS</th>\n      <td>20</td>\n      <td>19</td>\n      <td>5</td>\n    </tr>\n  </tbody>\n</table>\n</div>"
     },
     "execution_count": 10,
     "metadata": {},
     "output_type": "execute_result"
    }
   ],
   "source": [
    "suppliers = ['S1', 'S2', 'S3']\n",
    "indices = [x for x in Component]\n",
    "\n",
    "data = pd.DataFrame(np.random.randint(0,100,size=(len(indices), 3)), columns=suppliers, index=indices)\n",
    "\n",
    "data"
   ],
   "metadata": {
    "collapsed": false,
    "pycharm": {
     "name": "#%%\n"
    }
   }
  },
  {
   "cell_type": "code",
   "execution_count": 13,
   "outputs": [
    {
     "data": {
      "text/plain": "S1    20\nS2    33\nS3    71\nName: Component.VIRGIN, dtype: int64"
     },
     "execution_count": 13,
     "metadata": {},
     "output_type": "execute_result"
    }
   ],
   "source": [
    "component = Component.VIRGIN\n",
    "row = data.loc[component, :]\n",
    "row"
   ],
   "metadata": {
    "collapsed": false,
    "pycharm": {
     "name": "#%%\n"
    }
   }
  },
  {
   "cell_type": "code",
   "execution_count": 25,
   "outputs": [
    {
     "data": {
      "text/plain": "S1    20\nS2    33\nS3    71\nName: Component.VIRGIN, dtype: int64"
     },
     "execution_count": 25,
     "metadata": {},
     "output_type": "execute_result"
    }
   ],
   "source": [
    "row = row.sort_values(ascending=True)\n",
    "row"
   ],
   "metadata": {
    "collapsed": false,
    "pycharm": {
     "name": "#%%\n"
    }
   }
  },
  {
   "cell_type": "code",
   "execution_count": 26,
   "outputs": [
    {
     "data": {
      "text/plain": "['S1', 'S2', 'S3']"
     },
     "execution_count": 26,
     "metadata": {},
     "output_type": "execute_result"
    }
   ],
   "source": [
    "list(row.index)"
   ],
   "metadata": {
    "collapsed": false,
    "pycharm": {
     "name": "#%%\n"
    }
   }
  },
  {
   "cell_type": "code",
   "execution_count": null,
   "outputs": [],
   "source": [],
   "metadata": {
    "collapsed": false,
    "pycharm": {
     "name": "#%%\n"
    }
   }
  }
 ],
 "metadata": {
  "kernelspec": {
   "display_name": "Python 3",
   "language": "python",
   "name": "python3"
  },
  "language_info": {
   "codemirror_mode": {
    "name": "ipython",
    "version": 2
   },
   "file_extension": ".py",
   "mimetype": "text/x-python",
   "name": "python",
   "nbconvert_exporter": "python",
   "pygments_lexer": "ipython2",
   "version": "2.7.6"
  }
 },
 "nbformat": 4,
 "nbformat_minor": 0
}